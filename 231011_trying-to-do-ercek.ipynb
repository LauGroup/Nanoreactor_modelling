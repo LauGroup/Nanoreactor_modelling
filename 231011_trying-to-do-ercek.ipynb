{
 "cells": [
  {
   "cell_type": "code",
   "execution_count": 1,
   "id": "9245da91-ac78-46b4-af8c-d70b84956567",
   "metadata": {},
   "outputs": [],
   "source": [
    "import numpy as np\n",
    "import pandas as pd\n",
    "import openpyxl\n",
    "from openpyxl import Workbook\n",
    "from openpyxl import load_workbook\n",
    "import time\n",
    "import datetime\n",
    "import matplotlib\n",
    "import matplotlib.pyplot as plt\n",
    "import scipy\n",
    "from scipy import stats\n",
    "import datetime\n",
    "import dateutil\n",
    "from matplotlib import cm\n",
    "from matplotlib.colors import ListedColormap, LinearSegmentedColormap\n",
    "import os\n",
    "from scipy import integrate"
   ]
  },
  {
   "cell_type": "code",
   "execution_count": 191,
   "id": "71715a37-7fe5-4350-971e-ef862e044688",
   "metadata": {},
   "outputs": [],
   "source": [
    "import math"
   ]
  },
  {
   "cell_type": "code",
   "execution_count": null,
   "id": "11a43fc0-e197-4813-9466-3f0658fa4155",
   "metadata": {},
   "outputs": [],
   "source": [
    "##(6/11/23) I put in a few comments just now in parts that seemed to need a bit of context. All new comments have (6/1/23) in front of them. If they don't then they were made at the time. I gave up on\n",
    "## adding extra comments to some of the later work because I seemed to have been alright at putting them in. Unfortunately this was one of those notebooks where I kept it open for ages and kept chipping at it\n",
    "## so it's long and lots of different lines of thinking are included. Hopefully it's not too tricky to navigate, but if you have any questions I'm happy to answer them."
   ]
  },
  {
   "cell_type": "code",
   "execution_count": 2,
   "id": "fcf67b5c-31e3-4620-9472-79da7520bfd1",
   "metadata": {},
   "outputs": [],
   "source": [
    "# dS*/dt = 0 | S* means Sb or substrate in bulk\n",
    "\n",
    "# dS/dt = -1/Fv dP/dt + k1(S*-S) | S means Sc or substrate in compartment\n",
    "\n",
    "# dI/dt = 1/Fv dP/dt - k2I | I/P mean Ic/Pc or INhibitor/product in compartment\n",
    "\n",
    "# dP/dt = kcat*S/Km(1+I/KI)+S\n",
    "\n",
    "# concentration units are M, time units s"
   ]
  },
  {
   "cell_type": "code",
   "execution_count": 3,
   "id": "31cab5c5-7997-46c5-8535-1feab6916b1d",
   "metadata": {},
   "outputs": [],
   "source": [
    "# In this scenario the kcat is scaled down by avogadros number because prior attempts where the values were just plugged in made the integration break\n",
    "\n",
    "##(6/11/23)Looking back at this - this is before I understood the actual approach used in the paper for determining the diffusivities, and so I thought I was including the diffusivity parameters when\n",
    "## trying to reproduce the rates of product formation of the wild-type system\n",
    "timepoints = np.linspace(0,5,100,dtype='f')\n",
    "\n",
    "nA = 6.022*10**23\n",
    "\n",
    "\n",
    "Fv = 1*10**-7 #volume fraction used\n",
    "kcat = 6.44 / 6.022*10**23 #scaling down the kcat value. Obtained from Fig 3 in main paper \n",
    "Km  = 1.91*10**-6 #Units are in M. Obtained from Fig 3 in main paper (value for 1.5 enzymes/capsid)\n",
    "Ki = 1.74 *10**-6 #Units in M. Fitted parameter obtained from Table 1\n",
    "k1 = 1.02*10**4 #units in s^-1. Fitted paremeter from Table 1\n",
    "k2 = 6.08*10**2 #units in s^-1. Fitted paremeter from Table 1\n",
    "\n",
    "Sb0 = 20*10**-6\n",
    "Sc0 = 0.0\n",
    "Pc0 = 0.0\n",
    "Ic0 = 0.0"
   ]
  },
  {
   "cell_type": "code",
   "execution_count": 4,
   "id": "32652e5e-20a1-4410-b0b1-40d98c70a928",
   "metadata": {},
   "outputs": [],
   "source": [
    "##(6/11/23) Here the equations used are directly adapted from 'Kinetic Modeling' section in the SI\n",
    "y0 = [Sb0,Sc0,Pc0,Ic0]\n",
    "def model(y,t):\n",
    "    Sb,Sc,Pc,Ic = y\n",
    "    dpdt = (kcat*Sc)/(Km + Sc + ((Km*Ic)/Ki))\n",
    "    dsdt = -(1/Fv*dpdt) + ((k1*Sb)-(k1*Sc))\n",
    "    didt = (1/Fv*dpdt) - (k2*Ic)\n",
    "    dydt = [0,dsdt,dpdt,didt]\n",
    "    return dydt"
   ]
  },
  {
   "cell_type": "code",
   "execution_count": 5,
   "id": "db78782f-658b-4c04-8e42-cb9d3e30a4eb",
   "metadata": {},
   "outputs": [
    {
     "name": "stderr",
     "output_type": "stream",
     "text": [
      "/home/lachlan/miniconda3/lib/python3.9/site-packages/scipy/integrate/odepack.py:247: ODEintWarning: Repeated convergence failures (perhaps bad Jacobian or tolerances). Run with full_output = 1 to get quantitative information.\n",
      "  warnings.warn(warning_msg, ODEintWarning)\n"
     ]
    }
   ],
   "source": [
    "testoutput = scipy.integrate.odeint(model,y0,timepoints)"
   ]
  },
  {
   "cell_type": "code",
   "execution_count": 6,
   "id": "ee3b99e3-fc9c-4619-bcda-6712ca89ef6e",
   "metadata": {
    "tags": []
   },
   "outputs": [
    {
     "data": {
      "text/plain": [
       "<matplotlib.legend.Legend at 0x7f32242d9af0>"
      ]
     },
     "execution_count": 6,
     "metadata": {},
     "output_type": "execute_result"
    },
    {
     "data": {
      "image/png": "[encoded data removed]",
      "text/plain": [
       "<Figure size 432x288 with 1 Axes>"
      ]
     },
     "metadata": {
      "needs_background": "light"
     },
     "output_type": "display_data"
    }
   ],
   "source": [
    "##(6/11/23) Can't quite remember what went wrong here - I think the suspicion was that the scaling down of kcat without corresponding scaling of the diffusivities caused the whole thing to break\n",
    "\n",
    "fig,ax = plt.subplots()\n",
    "\n",
    "ax.plot(timepoints,testoutput,label = ['Sb','Sc','Pc','Ic'])\n",
    "ax.legend()"
   ]
  },
  {
   "cell_type": "code",
   "execution_count": 7,
   "id": "62333920-38e1-4389-a6f9-32974022b358",
   "metadata": {},
   "outputs": [],
   "source": [
    "inhibitor = testoutput[:,3]\n",
    "product = testoutput[:,2]\n",
    "compartmentsubstrate = testoutput[:,1]\n",
    "bulksubstrate = testoutput[:,0]"
   ]
  },
  {
   "cell_type": "code",
   "execution_count": 8,
   "id": "a0e934f1-5150-46cd-8a70-bd3313315968",
   "metadata": {
    "collapsed": true,
    "jupyter": {
     "outputs_hidden": true,
     "source_hidden": true
    },
    "tags": []
   },
   "outputs": [
    {
     "name": "stdout",
     "output_type": "stream",
     "text": [
      "[0.00000000e+000 0.00000000e+000 6.90971267e-310 2.12199579e-313\n",
      " 0.00000000e+000 4.65619197e-310 5.94158821e-313 4.94065646e-324\n",
      " 4.65619197e-310 6.90971464e-310 8.70018274e-313 6.90971268e-310\n",
      " 6.90967266e-310 1.16709769e-312 4.65619197e-310 1.18831764e-312\n",
      " 0.00000000e+000 4.94065646e-324 7.42698527e-313 3.18299369e-313\n",
      " 4.65619197e-310 4.65619197e-310 4.65619197e-310 4.65619197e-310\n",
      " 4.65619197e-310 4.65619197e-310 4.65619197e-310 6.90971464e-310\n",
      " 8.70018274e-313 2.54639495e-313 4.65619197e-310 4.65619197e-310\n",
      " 4.65619197e-310 4.65619197e-310 4.65619197e-310 4.65619197e-310\n",
      " 6.90971464e-310 8.70018274e-313 7.21478569e-313 4.65619197e-310\n",
      " 4.65619197e-310 4.65619197e-310 4.65619197e-310 4.65619197e-310\n",
      " 4.65619197e-310 4.65619197e-310 6.90967563e-310 9.33678148e-313\n",
      " 0.00000000e+000 4.65619197e-310 4.65619197e-310 4.65619197e-310\n",
      " 4.65619197e-310 4.65619197e-310 4.65619197e-310 6.90967266e-310\n",
      " 1.16709769e-312 0.00000000e+000 4.65619197e-310 4.65619197e-310\n",
      " 4.65619197e-310 4.65619197e-310 4.65619197e-310 4.65619197e-310\n",
      " 6.90971469e-310 6.90967266e-310 1.16709769e-312 4.65619197e-310\n",
      " 4.65619197e-310 4.65619197e-310 4.65619197e-310 4.65619197e-310\n",
      " 4.65619197e-310 4.45619122e-313 1.48219694e-323 2.54639495e-313\n",
      " 7.63918485e-313 4.65608316e-310 2.54639495e-313 4.65608316e-310\n",
      " 2.75859453e-313 2.54639495e-313 4.65608316e-310 4.65608316e-310\n",
      " 4.94065646e-324 1.06099790e-313 7.84714043e-311 2.33419537e-313\n",
      " 4.65608316e-310 1.27319748e-313 4.65608316e-310 1.28212382e+291\n",
      " 4.65608316e-310 1.11973321e+092 2.54639495e-313 4.03179200e-313\n",
      " 6.90971268e-310 4.03179200e-313 6.15378779e-313 6.90967330e-310]\n"
     ]
    }
   ],
   "source": [
    "print(compartmentsubstrate)"
   ]
  },
  {
   "cell_type": "code",
   "execution_count": 9,
   "id": "029c6e15-f498-4ddb-b84b-284c8af734a5",
   "metadata": {},
   "outputs": [],
   "source": [
    "## (6/11/23) Here I've tried a model that doesn't include the production of inhibitor to try and reproduce the rates of product formation - I think I hadn't realised the scaling issue yet\n",
    "\n",
    "no_iy0 = [Sb0,Sc0,Pc0]\n",
    "def model_noi(y,t):\n",
    "    Sb,Sc,Pc = y\n",
    "    dpdt = (kcat*Sc)/(Km + Sc)\n",
    "    dsdt = -(1/Fv*dpdt) + ((k1*Sb)-(k1*Sc))\n",
    "    dydt = [0,dsdt,dpdt]\n",
    "    return dydt"
   ]
  },
  {
   "cell_type": "code",
   "execution_count": 10,
   "id": "3480ff44-a97a-4081-a00f-a60b7ceff6d9",
   "metadata": {},
   "outputs": [
    {
     "name": "stderr",
     "output_type": "stream",
     "text": [
      "/home/lachlan/miniconda3/lib/python3.9/site-packages/scipy/integrate/odepack.py:247: ODEintWarning: Repeated convergence failures (perhaps bad Jacobian or tolerances). Run with full_output = 1 to get quantitative information.\n",
      "  warnings.warn(warning_msg, ODEintWarning)\n"
     ]
    }
   ],
   "source": [
    "noinhibitor = scipy.integrate.odeint(model_noi,no_iy0,timepoints)"
   ]
  },
  {
   "cell_type": "code",
   "execution_count": 11,
   "id": "87114984-9e92-4217-b117-7b481093bbc1",
   "metadata": {
    "collapsed": true,
    "jupyter": {
     "outputs_hidden": true
    },
    "tags": []
   },
   "outputs": [
    {
     "data": {
      "text/plain": [
       "<matplotlib.legend.Legend at 0x7f32239ebaf0>"
      ]
     },
     "execution_count": 11,
     "metadata": {},
     "output_type": "execute_result"
    },
    {
     "data": {
      "image/png": "[encoded data removed]",
      "text/plain": [
       "<Figure size 432x288 with 1 Axes>"
      ]
     },
     "metadata": {
      "needs_background": "light"
     },
     "output_type": "display_data"
    }
   ],
   "source": [
    "fig,ax = plt.subplots()\n",
    "\n",
    "ax.plot(timepoints,noinhibitor,label = ['Sb','Sc','Pc'])\n",
    "ax.legend()"
   ]
  },
  {
   "cell_type": "code",
   "execution_count": 12,
   "id": "738e498c-6776-4359-a888-eae692269482",
   "metadata": {
    "collapsed": true,
    "jupyter": {
     "outputs_hidden": true
    },
    "tags": []
   },
   "outputs": [
    {
     "data": {
      "text/plain": [
       "array([0.00000000e+000, 0.00000000e+000, 0.00000000e+000, 0.00000000e+000,\n",
       "       6.90967226e-310, 0.00000000e+000, 0.00000000e+000, 0.00000000e+000,\n",
       "       0.00000000e+000, 0.00000000e+000, 0.00000000e+000, 0.00000000e+000,\n",
       "       0.00000000e+000, 0.00000000e+000, 0.00000000e+000, 0.00000000e+000,\n",
       "       0.00000000e+000, 0.00000000e+000, 0.00000000e+000, 0.00000000e+000,\n",
       "       0.00000000e+000, 0.00000000e+000, 0.00000000e+000, 0.00000000e+000,\n",
       "       0.00000000e+000, 0.00000000e+000, 0.00000000e+000, 0.00000000e+000,\n",
       "       0.00000000e+000, 0.00000000e+000, 0.00000000e+000, 0.00000000e+000,\n",
       "       0.00000000e+000, 6.90971569e-310, 0.00000000e+000, 0.00000000e+000,\n",
       "       6.90967266e-310, 6.90967266e-310, 0.00000000e+000, 6.90967266e-310,\n",
       "       1.97626258e-323, 4.94065646e-324, 6.90967266e-310, 4.58492919e-321,\n",
       "       4.65619057e-310, 0.00000000e+000, 5.13828272e-321, 6.90971569e-310,\n",
       "       0.00000000e+000, 0.00000000e+000, 0.00000000e+000, 0.00000000e+000,\n",
       "       0.00000000e+000, 0.00000000e+000, 0.00000000e+000, 0.00000000e+000,\n",
       "       0.00000000e+000, 0.00000000e+000, 0.00000000e+000, 0.00000000e+000,\n",
       "       0.00000000e+000, 0.00000000e+000, 0.00000000e+000, 0.00000000e+000,\n",
       "       0.00000000e+000, 1.48539705e-313, 1.85818089e-320, 0.00000000e+000,\n",
       "       1.48219694e-323, 1.48219694e-323, 1.48219694e-323, 1.48219694e-323,\n",
       "       1.97626258e-323, 1.97626258e-323, 1.97626258e-323, 1.97626258e-323,\n",
       "       1.97626258e-323, 1.97626258e-323, 1.97626258e-323, 1.97626258e-323,\n",
       "       6.90971398e-310, 2.47032823e-323, 0.00000000e+000, 0.00000000e+000,\n",
       "       1.64474454e-320, 0.00000000e+000, 2.47032823e-323, 2.47032823e-323,\n",
       "       2.47032823e-323, 2.47032823e-323, 2.47032823e-323, 2.47032823e-323,\n",
       "       2.47032823e-323, 2.47032823e-323, 2.47032823e-323, 2.96439388e-323,\n",
       "       2.96439388e-323, 2.96439388e-323, 2.96439388e-323, 2.96439388e-323])"
      ]
     },
     "execution_count": 12,
     "metadata": {},
     "output_type": "execute_result"
    }
   ],
   "source": [
    "noinhibitor[:,1] ##(6/11/23) here i was looking at the substrate in the compartment"
   ]
  },
  {
   "cell_type": "code",
   "execution_count": 13,
   "id": "df2054b4-3921-4044-a214-5d97d1e20fb7",
   "metadata": {
    "tags": []
   },
   "outputs": [],
   "source": [
    "##(6/11/23) I think I thought I needed to scale the kcat by the concentration of the enzyme in M\n",
    "\n",
    "timepoints = np.linspace(0,0.5,100,dtype='f')\n",
    "\n",
    "nA = 6.022*10**23\n",
    "\n",
    "\n",
    "Fv = 1*10**-7\n",
    "kcat = 6.44 * 2*10**-9 #scaling down the kcat value so the integration doesn't break.\n",
    "Km  = 1.91*10**-6\n",
    "Ki = 1.74 *10**-6\n",
    "k1 = 1.02*10**4\n",
    "k2 = 6.08*10**2\n",
    "\n",
    "Sb0 = 20*10**-6\n",
    "Sc0 = 0.0\n",
    "Pc0 = 0.0\n",
    "Ic0 = 0.0"
   ]
  },
  {
   "cell_type": "code",
   "execution_count": 14,
   "id": "b8fe287e-c2be-49c0-8479-0039778fcf74",
   "metadata": {},
   "outputs": [],
   "source": [
    "timepoints = np.linspace(0,5,100,dtype='f')\n",
    "\n",
    "nA = 6.022*10**23\n",
    "\n",
    "\n",
    "# Fv = 1*10**-7\n",
    "kcat = 11.6 #/ 6.022*10**23 #scaling down the kcat value so the integration doesn't break.\n",
    "Km  = 2.13*10**-6 * nA\n",
    "# Ki = 1.74 *10**-6\n",
    "# k1 = 1.02*10**4\n",
    "# k2 = 6.08*10**2\n",
    "\n",
    "S0 = 20*10**-6 * nA\n",
    "P0 = 0.0\n",
    "I0 = 0.0"
   ]
  },
  {
   "cell_type": "code",
   "execution_count": 15,
   "id": "d938ca0d-0cff-4fdf-b14d-63e14b768471",
   "metadata": {},
   "outputs": [],
   "source": [
    "### This time I tried replicating results from a simpler model system using the same strategy - the Free Alkaline Phosphatase (medium salt) conditions outlined in Supplementary Table S3 and Main Figure \n",
    "### 4. What I did this time was scale up all of the concentrations by nA so that the quantities are dealt with in scale of per particle."
   ]
  },
  {
   "cell_type": "code",
   "execution_count": 16,
   "id": "c26cba5e-e6a7-4f25-aac9-f2d9c163fa24",
   "metadata": {},
   "outputs": [],
   "source": [
    "timepoints = np.linspace(0,5,100,dtype='f')\n",
    "\n",
    "nA = 6.022*10**23\n",
    "\n",
    "\n",
    "# Fv = 1*10**-7\n",
    "kcat = 11.6 / nA\n",
    "Km  = 2.13*10**-6 \n",
    "# Ki = 1.74 *10**-6\n",
    "# k1 = 1.02*10**4\n",
    "# k2 = 6.08*10**2\n",
    "\n",
    "S0 = 20*10**-6 \n",
    "P0 = 0.0\n",
    "I0 = 0.0"
   ]
  },
  {
   "cell_type": "code",
   "execution_count": 17,
   "id": "f882425b-b707-4251-a997-28763e3fd063",
   "metadata": {},
   "outputs": [],
   "source": [
    "def MM(y,t):\n",
    "    S,P = y\n",
    "    dsdt = -(kcat*S/(Km+S))\n",
    "    dpdt = (kcat*S/(Km+S))\n",
    "    dydt = [dsdt,dpdt]\n",
    "    return dydt"
   ]
  },
  {
   "cell_type": "code",
   "execution_count": 18,
   "id": "b71b2079-10e1-4c38-9e08-0b3e0242766e",
   "metadata": {},
   "outputs": [],
   "source": [
    "y0  = [S0,P0]"
   ]
  },
  {
   "cell_type": "code",
   "execution_count": 19,
   "id": "9fd918df-7499-402c-92b0-d93b2c54f077",
   "metadata": {},
   "outputs": [],
   "source": [
    "testMM = scipy.integrate.odeint(MM,y0,timepoints)"
   ]
  },
  {
   "cell_type": "code",
   "execution_count": 20,
   "id": "e6dd3470-6129-42bb-bd81-b98cf73a29e5",
   "metadata": {
    "tags": []
   },
   "outputs": [
    {
     "data": {
      "text/plain": [
       "[<matplotlib.lines.Line2D at 0x7f322392c5b0>,\n",
       " <matplotlib.lines.Line2D at 0x7f322392c610>]"
      ]
     },
     "execution_count": 20,
     "metadata": {},
     "output_type": "execute_result"
    },
    {
     "data": {
      "image/png": "[encoded data removed]",
      "text/plain": [
       "<Figure size 432x288 with 1 Axes>"
      ]
     },
     "metadata": {
      "needs_background": "light"
     },
     "output_type": "display_data"
    }
   ],
   "source": [
    "plt.plot(timepoints,testMM)"
   ]
  },
  {
   "cell_type": "code",
   "execution_count": 21,
   "id": "ebe12ee0-c99a-4f2d-abf1-558626a24fce",
   "metadata": {
    "collapsed": true,
    "jupyter": {
     "outputs_hidden": true
    },
    "tags": []
   },
   "outputs": [
    {
     "data": {
      "text/plain": [
       "array([0.00000000e+00, 8.79226200e-25, 1.75845240e-24, 2.63767873e-24,\n",
       "       3.51690480e-24, 4.39613087e-24, 5.27535746e-24, 6.15458353e-24,\n",
       "       7.03380960e-24, 7.91303619e-24, 8.79226174e-24, 9.67148885e-24,\n",
       "       1.05507149e-23, 1.14299410e-23, 1.23091671e-23, 1.31883931e-23,\n",
       "       1.40676192e-23, 1.49468453e-23, 1.58260724e-23, 1.67052984e-23,\n",
       "       1.75845235e-23, 1.84637496e-23, 1.93429777e-23, 2.02222038e-23,\n",
       "       2.11014298e-23, 2.19806559e-23, 2.28598820e-23, 2.37391080e-23,\n",
       "       2.46183341e-23, 2.54975602e-23, 2.63767863e-23, 2.72560123e-23,\n",
       "       2.81352384e-23, 2.90144645e-23, 2.98936905e-23, 3.07729166e-23,\n",
       "       3.16521448e-23, 3.25313708e-23, 3.34105969e-23, 3.42898230e-23,\n",
       "       3.51690470e-23, 3.60482751e-23, 3.69274991e-23, 3.78067272e-23,\n",
       "       3.86859554e-23, 3.95651794e-23, 4.04444075e-23, 4.13236315e-23,\n",
       "       4.22028597e-23, 4.30820837e-23, 4.39613118e-23, 4.48405358e-23,\n",
       "       4.57197640e-23, 4.65989880e-23, 4.74782161e-23, 4.83574401e-23,\n",
       "       4.92366682e-23, 5.01158964e-23, 5.09951204e-23, 5.18743485e-23,\n",
       "       5.27535725e-23, 5.36328007e-23, 5.45120247e-23, 5.53912528e-23,\n",
       "       5.62704768e-23, 5.71497049e-23, 5.80289289e-23, 5.89081571e-23,\n",
       "       5.97873811e-23, 6.06666092e-23, 6.15458332e-23, 6.24250614e-23,\n",
       "       6.33042895e-23, 6.41835135e-23, 6.50627417e-23, 6.59419656e-23,\n",
       "       6.68211938e-23, 6.77004178e-23, 6.85796459e-23, 6.94588699e-23,\n",
       "       7.03380939e-23, 7.12173221e-23, 7.20965502e-23, 7.29757784e-23,\n",
       "       7.38549982e-23, 7.47342264e-23, 7.56134545e-23, 7.64926826e-23,\n",
       "       7.73719108e-23, 7.82511306e-23, 7.91303588e-23, 8.00095869e-23,\n",
       "       8.08888151e-23, 8.17680349e-23, 8.26472631e-23, 8.35264912e-23,\n",
       "       8.44057193e-23, 8.52849392e-23, 8.61641673e-23, 8.70433955e-23])"
      ]
     },
     "execution_count": 21,
     "metadata": {},
     "output_type": "execute_result"
    }
   ],
   "source": [
    "testMM[:,1]"
   ]
  },
  {
   "cell_type": "code",
   "execution_count": 22,
   "id": "43e080c4-b0d5-4800-8f64-603a4a5bf47e",
   "metadata": {},
   "outputs": [],
   "source": [
    "v20 = scipy.stats.linregress(timepoints,testMM[:,1])"
   ]
  },
  {
   "cell_type": "code",
   "execution_count": 23,
   "id": "a31dfe71-f2e0-4a32-8d11-9d9472c6a4f8",
   "metadata": {},
   "outputs": [
    {
     "data": {
      "text/plain": [
       "1.7408679096963796e-23"
      ]
     },
     "execution_count": 23,
     "metadata": {},
     "output_type": "execute_result"
    }
   ],
   "source": [
    "v20.slope #in M/s/enzyme"
   ]
  },
  {
   "cell_type": "code",
   "execution_count": 24,
   "id": "6d0f0580-12b2-4beb-aa2b-d4173e4754f9",
   "metadata": {},
   "outputs": [
    {
     "data": {
      "text/plain": [
       "10.483506552191598"
      ]
     },
     "execution_count": 24,
     "metadata": {},
     "output_type": "execute_result"
    }
   ],
   "source": [
    "v20.slope * nA #scaled by nA so it becomes M/s/M enzyme (which is the same as per molecule per enzyme)"
   ]
  },
  {
   "cell_type": "code",
   "execution_count": null,
   "id": "757571be-6417-460e-b8ce-6b41859ff075",
   "metadata": {},
   "outputs": [],
   "source": [
    "## I did a similar thing as the series of stuff above this (above the last comment like this), except instead of scaling up the concentrations I scaled down the kcat in the integration, then rescaled\n",
    "## the rates back up to get the same value for initial rate"
   ]
  },
  {
   "cell_type": "code",
   "execution_count": 25,
   "id": "bc70e14b-10c3-4398-81d5-ce9fdb6aa566",
   "metadata": {},
   "outputs": [],
   "source": [
    "timepoints = np.linspace(0,5,100,dtype='f')\n",
    "\n",
    "nA = 6.022*10**23\n",
    "\n",
    "\n",
    "Fv = 1*10**-7\n",
    "kcat = 6.44  #scaling down the kcat value so the integration doesn't break.\n",
    "Km  = 1.91*10**-6 * nA\n",
    "Ki = 1.74 *10**-6 * nA\n",
    "k1 = 1.02*10**4\n",
    "k2 = 6.08*10**2\n",
    "\n",
    "Sb0 = 20*10**-6 *nA\n",
    "Sc0 = 0.0\n",
    "Pc0 = 0.0\n",
    "Ic0 = 0.0"
   ]
  },
  {
   "cell_type": "code",
   "execution_count": 26,
   "id": "a4f64bf2-9e69-4835-9a27-ee80290816b4",
   "metadata": {},
   "outputs": [],
   "source": [
    "y0 = [Sb0,Sc0,Pc0,Ic0]\n",
    "def nanoreactor(y,t):\n",
    "    Sb,Sc,Pc,Ic = y\n",
    "    dpdt = (kcat*Sc)/(Km + Sc + ((Km*Ic)/Ki))\n",
    "    dsdt = -(1/Fv*dpdt) + ((k1*Sb)-(k1*Sc))\n",
    "    didt = (1/Fv*dpdt) - (k2*Ic)\n",
    "    dydt = [0,dsdt,dpdt,didt]\n",
    "    return dydt"
   ]
  },
  {
   "cell_type": "code",
   "execution_count": 27,
   "id": "54de11b3-9e13-425e-acf1-af18e7b6d6cd",
   "metadata": {},
   "outputs": [],
   "source": [
    "testoutput = scipy.integrate.odeint(nanoreactor,y0,timepoints)"
   ]
  },
  {
   "cell_type": "code",
   "execution_count": 28,
   "id": "7390883b-93a3-4413-a2fb-29207cbed205",
   "metadata": {
    "tags": []
   },
   "outputs": [
    {
     "data": {
      "text/plain": [
       "<matplotlib.legend.Legend at 0x7f32238e14f0>"
      ]
     },
     "execution_count": 28,
     "metadata": {},
     "output_type": "execute_result"
    },
    {
     "data": {
      "image/png": "[encoded data removed]",
      "text/plain": [
       "<Figure size 432x288 with 1 Axes>"
      ]
     },
     "metadata": {
      "needs_background": "light"
     },
     "output_type": "display_data"
    }
   ],
   "source": [
    "fig,ax = plt.subplots()\n",
    "\n",
    "ax.plot(timepoints,testoutput,label = ['Sb','Sc','Pc','Ic'])\n",
    "ax.legend()"
   ]
  },
  {
   "cell_type": "code",
   "execution_count": 29,
   "id": "e3b148a0-07fa-419e-8247-8531f1d809a2",
   "metadata": {
    "collapsed": true,
    "jupyter": {
     "outputs_hidden": true
    },
    "tags": []
   },
   "outputs": [
    {
     "data": {
      "text/plain": [
       "array([2.e-05, 2.e-05, 2.e-05, 2.e-05, 2.e-05, 2.e-05, 2.e-05, 2.e-05,\n",
       "       2.e-05, 2.e-05, 2.e-05, 2.e-05, 2.e-05, 2.e-05, 2.e-05, 2.e-05,\n",
       "       2.e-05, 2.e-05, 2.e-05, 2.e-05, 2.e-05, 2.e-05, 2.e-05, 2.e-05,\n",
       "       2.e-05, 2.e-05, 2.e-05, 2.e-05, 2.e-05, 2.e-05, 2.e-05, 2.e-05,\n",
       "       2.e-05, 2.e-05, 2.e-05, 2.e-05, 2.e-05, 2.e-05, 2.e-05, 2.e-05,\n",
       "       2.e-05, 2.e-05, 2.e-05, 2.e-05, 2.e-05, 2.e-05, 2.e-05, 2.e-05,\n",
       "       2.e-05, 2.e-05, 2.e-05, 2.e-05, 2.e-05, 2.e-05, 2.e-05, 2.e-05,\n",
       "       2.e-05, 2.e-05, 2.e-05, 2.e-05, 2.e-05, 2.e-05, 2.e-05, 2.e-05,\n",
       "       2.e-05, 2.e-05, 2.e-05, 2.e-05, 2.e-05, 2.e-05, 2.e-05, 2.e-05,\n",
       "       2.e-05, 2.e-05, 2.e-05, 2.e-05, 2.e-05, 2.e-05, 2.e-05, 2.e-05,\n",
       "       2.e-05, 2.e-05, 2.e-05, 2.e-05, 2.e-05, 2.e-05, 2.e-05, 2.e-05,\n",
       "       2.e-05, 2.e-05, 2.e-05, 2.e-05, 2.e-05, 2.e-05, 2.e-05, 2.e-05,\n",
       "       2.e-05, 2.e-05, 2.e-05, 2.e-05])"
      ]
     },
     "execution_count": 29,
     "metadata": {},
     "output_type": "execute_result"
    }
   ],
   "source": [
    "testoutput[:,0] / nA # concentration of substrate in bulk -> fixed at 20 uM"
   ]
  },
  {
   "cell_type": "code",
   "execution_count": 30,
   "id": "6e3bd301-cad3-44fc-aca0-1e03ad947a4a",
   "metadata": {
    "collapsed": true,
    "jupyter": {
     "outputs_hidden": true
    },
    "tags": []
   },
   "outputs": [
    {
     "data": {
      "text/plain": [
       "array([0.e+00, 2.e-05, 2.e-05, 2.e-05, 2.e-05, 2.e-05, 2.e-05, 2.e-05,\n",
       "       2.e-05, 2.e-05, 2.e-05, 2.e-05, 2.e-05, 2.e-05, 2.e-05, 2.e-05,\n",
       "       2.e-05, 2.e-05, 2.e-05, 2.e-05, 2.e-05, 2.e-05, 2.e-05, 2.e-05,\n",
       "       2.e-05, 2.e-05, 2.e-05, 2.e-05, 2.e-05, 2.e-05, 2.e-05, 2.e-05,\n",
       "       2.e-05, 2.e-05, 2.e-05, 2.e-05, 2.e-05, 2.e-05, 2.e-05, 2.e-05,\n",
       "       2.e-05, 2.e-05, 2.e-05, 2.e-05, 2.e-05, 2.e-05, 2.e-05, 2.e-05,\n",
       "       2.e-05, 2.e-05, 2.e-05, 2.e-05, 2.e-05, 2.e-05, 2.e-05, 2.e-05,\n",
       "       2.e-05, 2.e-05, 2.e-05, 2.e-05, 2.e-05, 2.e-05, 2.e-05, 2.e-05,\n",
       "       2.e-05, 2.e-05, 2.e-05, 2.e-05, 2.e-05, 2.e-05, 2.e-05, 2.e-05,\n",
       "       2.e-05, 2.e-05, 2.e-05, 2.e-05, 2.e-05, 2.e-05, 2.e-05, 2.e-05,\n",
       "       2.e-05, 2.e-05, 2.e-05, 2.e-05, 2.e-05, 2.e-05, 2.e-05, 2.e-05,\n",
       "       2.e-05, 2.e-05, 2.e-05, 2.e-05, 2.e-05, 2.e-05, 2.e-05, 2.e-05,\n",
       "       2.e-05, 2.e-05, 2.e-05, 2.e-05])"
      ]
     },
     "execution_count": 30,
     "metadata": {},
     "output_type": "execute_result"
    }
   ],
   "source": [
    "testoutput[:,1] / nA # concentration of substrate in compartment -> equilibrates to 20 uM"
   ]
  },
  {
   "cell_type": "code",
   "execution_count": 31,
   "id": "6867d597-2c94-4394-95c5-84a97d605d3d",
   "metadata": {},
   "outputs": [],
   "source": [
    "scaledproduct = testoutput[:,2] / nA #Concentration of product in bulk"
   ]
  },
  {
   "cell_type": "code",
   "execution_count": 32,
   "id": "422a670d-566e-45fc-bbdd-f4976b809d91",
   "metadata": {
    "collapsed": true,
    "jupyter": {
     "outputs_hidden": true
    },
    "tags": []
   },
   "outputs": [
    {
     "data": {
      "text/plain": [
       "array([0.00000000e+00, 2.46400204e-16, 4.92911906e-16, 7.39423644e-16,\n",
       "       9.85935309e-16, 1.23244697e-15, 1.47895879e-15, 1.72547045e-15,\n",
       "       1.97198212e-15, 2.21849393e-15, 2.46500545e-15, 2.71151740e-15,\n",
       "       2.95802907e-15, 3.20454074e-15, 3.45105240e-15, 3.69756407e-15,\n",
       "       3.94407573e-15, 4.19058740e-15, 4.43709935e-15, 4.68361102e-15,\n",
       "       4.93012239e-15, 5.17663406e-15, 5.42314631e-15, 5.66965797e-15,\n",
       "       5.91616964e-15, 6.16268130e-15, 6.40919297e-15, 6.65570463e-15,\n",
       "       6.90221630e-15, 7.14872796e-15, 7.39523963e-15, 7.64175130e-15,\n",
       "       7.88826296e-15, 8.13477463e-15, 8.38128629e-15, 8.62779796e-15,\n",
       "       8.87431020e-15, 9.12082187e-15, 9.36733354e-15, 9.61384520e-15,\n",
       "       9.86035628e-15, 1.01068685e-14, 1.03533796e-14, 1.05998919e-14,\n",
       "       1.08464041e-14, 1.10929152e-14, 1.13394274e-14, 1.15859385e-14,\n",
       "       1.18324508e-14, 1.20789619e-14, 1.23254741e-14, 1.25719852e-14,\n",
       "       1.28184974e-14, 1.30650085e-14, 1.33115208e-14, 1.35580318e-14,\n",
       "       1.38045441e-14, 1.40510563e-14, 1.42975674e-14, 1.45440797e-14,\n",
       "       1.47905908e-14, 1.50371030e-14, 1.52836141e-14, 1.55301263e-14,\n",
       "       1.57766374e-14, 1.60231497e-14, 1.62696608e-14, 1.65161730e-14,\n",
       "       1.67626841e-14, 1.70091963e-14, 1.72557074e-14, 1.75022197e-14,\n",
       "       1.77487319e-14, 1.79952430e-14, 1.82417552e-14, 1.84882663e-14,\n",
       "       1.87347786e-14, 1.89812897e-14, 1.92278019e-14, 1.94743130e-14,\n",
       "       1.97208241e-14, 1.99673363e-14, 2.02138486e-14, 2.04603608e-14,\n",
       "       2.07068707e-14, 2.09533830e-14, 2.11998952e-14, 2.14464075e-14,\n",
       "       2.16929197e-14, 2.19394296e-14, 2.21859419e-14, 2.24324541e-14,\n",
       "       2.26789664e-14, 2.29254763e-14, 2.31719885e-14, 2.34185008e-14,\n",
       "       2.36650130e-14, 2.39115230e-14, 2.41580352e-14, 2.44045475e-14])"
      ]
     },
     "execution_count": 32,
     "metadata": {},
     "output_type": "execute_result"
    }
   ],
   "source": [
    "scaledproduct/0.000000002"
   ]
  },
  {
   "cell_type": "code",
   "execution_count": 33,
   "id": "082d3e25-a4ac-4070-aaf1-a9aae167fb2d",
   "metadata": {
    "collapsed": true,
    "jupyter": {
     "outputs_hidden": true
    },
    "tags": []
   },
   "outputs": [
    {
     "data": {
      "text/plain": [
       "array([    0.        , 96687.40541733, 96687.40541478, 96687.4054145 ,\n",
       "       96687.4054145 , 96687.40541449, 96687.40541449, 96687.40541449,\n",
       "       96687.40541449, 96687.40541449, 96687.40541449, 96687.40541449,\n",
       "       96687.40541449, 96687.40541449, 96687.40541449, 96687.40541449,\n",
       "       96687.40541449, 96687.40541449, 96687.40541449, 96687.40541449,\n",
       "       96687.40541449, 96687.40541449, 96687.40541449, 96687.40541449,\n",
       "       96687.40541449, 96687.40541449, 96687.40541449, 96687.40541449,\n",
       "       96687.40541449, 96687.40541449, 96687.40541449, 96687.40541449,\n",
       "       96687.40541449, 96687.40541449, 96687.40541449, 96687.40541449,\n",
       "       96687.40541449, 96687.40541449, 96687.40541449, 96687.40541449,\n",
       "       96687.40541449, 96687.40541449, 96687.40541449, 96687.40541449,\n",
       "       96687.40541449, 96687.40541449, 96687.40541449, 96687.40541449,\n",
       "       96687.40541449, 96687.40541449, 96687.40541449, 96687.40541449,\n",
       "       96687.40541449, 96687.40541449, 96687.40541449, 96687.40541449,\n",
       "       96687.40541449, 96687.40541449, 96687.40541449, 96687.40541449,\n",
       "       96687.40541449, 96687.40541449, 96687.40541449, 96687.40541449,\n",
       "       96687.40541449, 96687.40541449, 96687.40541449, 96687.40541449,\n",
       "       96687.40541449, 96687.40541449, 96687.40541449, 96687.40541449,\n",
       "       96687.40541449, 96687.40541449, 96687.40541449, 96687.40541449,\n",
       "       96687.40541449, 96687.40541449, 96687.40541449, 96687.40541449,\n",
       "       96687.40541449, 96687.40541449, 96687.40541449, 96687.40541449,\n",
       "       96687.40541449, 96687.40541449, 96687.40541449, 96687.40541449,\n",
       "       96687.40541449, 96687.40541449, 96687.40541449, 96687.40541449,\n",
       "       96687.40541449, 96687.40541449, 96687.40541449, 96687.40541449,\n",
       "       96687.40541449, 96687.40541449, 96687.40541449, 96687.40541449])"
      ]
     },
     "execution_count": 33,
     "metadata": {},
     "output_type": "execute_result"
    }
   ],
   "source": [
    "testoutput[:,3]"
   ]
  },
  {
   "cell_type": "code",
   "execution_count": null,
   "id": "72d0e750-ce16-4550-8916-aa219aa31f7f",
   "metadata": {},
   "outputs": [],
   "source": [
    "### I tried again the more complicated system, this time with the concentrations scaled up, but the results seem confusing. The main issue seems to be the product/inhibitor concentrations are off\n",
    "### compared to what was shown in the results of the main paper. "
   ]
  },
  {
   "cell_type": "code",
   "execution_count": 25,
   "id": "c843154b-6d12-41de-aaf0-dcb1d28d43ca",
   "metadata": {},
   "outputs": [],
   "source": [
    "timepoints = np.linspace(0,5,100,dtype='f')\n",
    "\n",
    "nA = 6.022*10**23\n",
    "\n",
    "\n",
    "Fv = 1*10**-7\n",
    "kcat = 6.44  #scaling down the kcat value so the integration doesn't break.\n",
    "Km  = 1.91*10**-6 * nA\n",
    "Ki = 1.74 *10**-6 * nA\n",
    "k1 = 1.02*10**4\n",
    "k2 = 6.08*10**2\n",
    "\n",
    "Sb0 = 20*10**-6 *nA\n",
    "Sc0 = 0.0\n",
    "Pc0 = 0.0\n",
    "Ic0 = 0.0"
   ]
  },
  {
   "cell_type": "code",
   "execution_count": 34,
   "id": "f4ecad08-7259-41a5-8a3a-8215ef39f9a6",
   "metadata": {},
   "outputs": [],
   "source": [
    "y0 = [Sb0,Sc0,Pc0,Ic0]\n",
    "def nanoreactor(y,t):\n",
    "    Sb,Sc,Pc,Ic = y\n",
    "    dpdt = (kcat*Sc)/(Km + Sc + ((Km*Ic)/Ki))\n",
    "    dsdt = -(dpdt) + ((k1*Sb)-(k1*Sc))\n",
    "    didt = (dpdt) - (k2*Ic)\n",
    "    dydt = [0,dsdt,dpdt,didt]\n",
    "    return dydt"
   ]
  },
  {
   "cell_type": "code",
   "execution_count": 35,
   "id": "5ef6bac3-7bc0-481f-86a6-5a695d1f10af",
   "metadata": {},
   "outputs": [],
   "source": [
    "testoutput = scipy.integrate.odeint(nanoreactor,y0,timepoints)"
   ]
  },
  {
   "cell_type": "code",
   "execution_count": 36,
   "id": "5395f7b5-5e26-42aa-9d76-15b414990d1e",
   "metadata": {
    "tags": []
   },
   "outputs": [
    {
     "data": {
      "text/plain": [
       "<matplotlib.legend.Legend at 0x7f32238cb6d0>"
      ]
     },
     "execution_count": 36,
     "metadata": {},
     "output_type": "execute_result"
    },
    {
     "data": {
      "image/png": "[encoded data removed]",
      "text/plain": [
       "<Figure size 432x288 with 1 Axes>"
      ]
     },
     "metadata": {
      "needs_background": "light"
     },
     "output_type": "display_data"
    }
   ],
   "source": [
    "fig,ax = plt.subplots()\n",
    "\n",
    "ax.plot(timepoints,testoutput,label = ['Sb','Sc','Pc','Ic'])\n",
    "ax.legend()"
   ]
  },
  {
   "cell_type": "code",
   "execution_count": 40,
   "id": "9005da1c-34c6-445d-8c64-e82fa2bcfc42",
   "metadata": {
    "collapsed": true,
    "jupyter": {
     "outputs_hidden": true
    },
    "tags": []
   },
   "outputs": [
    {
     "data": {
      "text/plain": [
       "array([0.e+00, 2.e-05, 2.e-05, 2.e-05, 2.e-05, 2.e-05, 2.e-05, 2.e-05,\n",
       "       2.e-05, 2.e-05, 2.e-05, 2.e-05, 2.e-05, 2.e-05, 2.e-05, 2.e-05,\n",
       "       2.e-05, 2.e-05, 2.e-05, 2.e-05, 2.e-05, 2.e-05, 2.e-05, 2.e-05,\n",
       "       2.e-05, 2.e-05, 2.e-05, 2.e-05, 2.e-05, 2.e-05, 2.e-05, 2.e-05,\n",
       "       2.e-05, 2.e-05, 2.e-05, 2.e-05, 2.e-05, 2.e-05, 2.e-05, 2.e-05,\n",
       "       2.e-05, 2.e-05, 2.e-05, 2.e-05, 2.e-05, 2.e-05, 2.e-05, 2.e-05,\n",
       "       2.e-05, 2.e-05, 2.e-05, 2.e-05, 2.e-05, 2.e-05, 2.e-05, 2.e-05,\n",
       "       2.e-05, 2.e-05, 2.e-05, 2.e-05, 2.e-05, 2.e-05, 2.e-05, 2.e-05,\n",
       "       2.e-05, 2.e-05, 2.e-05, 2.e-05, 2.e-05, 2.e-05, 2.e-05, 2.e-05,\n",
       "       2.e-05, 2.e-05, 2.e-05, 2.e-05, 2.e-05, 2.e-05, 2.e-05, 2.e-05,\n",
       "       2.e-05, 2.e-05, 2.e-05, 2.e-05, 2.e-05, 2.e-05, 2.e-05, 2.e-05,\n",
       "       2.e-05, 2.e-05, 2.e-05, 2.e-05, 2.e-05, 2.e-05, 2.e-05, 2.e-05,\n",
       "       2.e-05, 2.e-05, 2.e-05, 2.e-05])"
      ]
     },
     "execution_count": 40,
     "metadata": {},
     "output_type": "execute_result"
    }
   ],
   "source": [
    "testoutput[:,1] / nA"
   ]
  },
  {
   "cell_type": "code",
   "execution_count": 41,
   "id": "ae56cc7f-f57b-4b4b-afef-65497cc0244f",
   "metadata": {
    "collapsed": true,
    "jupyter": {
     "outputs_hidden": true
    },
    "tags": []
   },
   "outputs": [
    {
     "data": {
      "text/plain": [
       "array([ 0.        ,  0.2967644 ,  0.59366309,  0.89056183,  1.18746048,\n",
       "        1.48435913,  1.78125795,  2.0781566 ,  2.37505525,  2.67195408,\n",
       "        2.96885255,  3.26575155,  3.5626502 ,  3.85954885,  4.1564475 ,\n",
       "        4.45334615,  4.7502448 ,  5.04714345,  5.34404245,  5.6409411 ,\n",
       "        5.9378394 ,  6.23473805,  6.5316374 ,  6.82853605,  7.1254347 ,\n",
       "        7.42233335,  7.719232  ,  8.01613065,  8.3130293 ,  8.60992795,\n",
       "        8.9068266 ,  9.20372525,  9.5006239 ,  9.79752255, 10.0944212 ,\n",
       "       10.39131985, 10.6882192 , 10.98511785, 11.2820165 , 11.57891515,\n",
       "       11.8758131 , 12.17271245, 12.4696104 , 12.76650975, 13.0634091 ,\n",
       "       13.36030705, 13.6572064 , 13.95410435, 14.2510037 , 14.54790165,\n",
       "       14.844801  , 15.14169895, 15.4385983 , 15.73549625, 16.0323956 ,\n",
       "       16.32929355, 16.6261929 , 16.92309225, 17.2199902 , 17.51688955,\n",
       "       17.8137875 , 18.11068685, 18.4075848 , 18.70448415, 19.0013821 ,\n",
       "       19.29828145, 19.5951794 , 19.89207875, 20.1889767 , 20.48587605,\n",
       "       20.782774  , 21.07967335, 21.3765727 , 21.67347065, 21.97037   ,\n",
       "       22.26726795, 22.5641673 , 22.86106525, 23.1579646 , 23.45486255,\n",
       "       23.7517605 , 24.04865985, 24.3455592 , 24.64245855, 24.9393551 ,\n",
       "       25.23625445, 25.5331538 , 25.83005315, 26.1269525 , 26.42384905,\n",
       "       26.7207484 , 27.01764775, 27.3145471 , 27.61144365, 27.908343  ,\n",
       "       28.20524235, 28.5021417 , 28.79903825, 29.0959376 , 29.39283695])"
      ]
     },
     "execution_count": 41,
     "metadata": {},
     "output_type": "execute_result"
    }
   ],
   "source": [
    "testoutput[:,2] #not sure why we're getting fractional numbers of product molecules, which are also quite small"
   ]
  },
  {
   "cell_type": "code",
   "execution_count": 42,
   "id": "8d50fdf7-65bd-4531-b7db-33568e82fc8f",
   "metadata": {
    "collapsed": true,
    "jupyter": {
     "outputs_hidden": true
    },
    "tags": []
   },
   "outputs": [
    {
     "data": {
      "text/plain": [
       "array([0.        , 0.00966874, 0.00966874, 0.00966874, 0.00966874,\n",
       "       0.00966874, 0.00966874, 0.00966874, 0.00966874, 0.00966874,\n",
       "       0.00966874, 0.00966874, 0.00966874, 0.00966874, 0.00966874,\n",
       "       0.00966874, 0.00966874, 0.00966874, 0.00966874, 0.00966874,\n",
       "       0.00966874, 0.00966874, 0.00966874, 0.00966874, 0.00966874,\n",
       "       0.00966874, 0.00966874, 0.00966874, 0.00966874, 0.00966874,\n",
       "       0.00966874, 0.00966874, 0.00966874, 0.00966874, 0.00966874,\n",
       "       0.00966874, 0.00966874, 0.00966874, 0.00966874, 0.00966874,\n",
       "       0.00966874, 0.00966874, 0.00966874, 0.00966874, 0.00966874,\n",
       "       0.00966874, 0.00966874, 0.00966874, 0.00966874, 0.00966874,\n",
       "       0.00966874, 0.00966874, 0.00966874, 0.00966874, 0.00966874,\n",
       "       0.00966874, 0.00966874, 0.00966874, 0.00966874, 0.00966874,\n",
       "       0.00966874, 0.00966874, 0.00966874, 0.00966874, 0.00966874,\n",
       "       0.00966874, 0.00966874, 0.00966874, 0.00966874, 0.00966874,\n",
       "       0.00966874, 0.00966874, 0.00966874, 0.00966874, 0.00966874,\n",
       "       0.00966874, 0.00966874, 0.00966874, 0.00966874, 0.00966874,\n",
       "       0.00966874, 0.00966874, 0.00966874, 0.00966874, 0.00966874,\n",
       "       0.00966874, 0.00966874, 0.00966874, 0.00966874, 0.00966874,\n",
       "       0.00966874, 0.00966874, 0.00966874, 0.00966874, 0.00966874,\n",
       "       0.00966874, 0.00966874, 0.00966874, 0.00966874, 0.00966874])"
      ]
     },
     "execution_count": 42,
     "metadata": {},
     "output_type": "execute_result"
    }
   ],
   "source": [
    "testoutput[:,3] # inhibitor remains constant, but the numbers are off, same thing with product being produced, but numbers are off"
   ]
  },
  {
   "cell_type": "code",
   "execution_count": 43,
   "id": "81cc6c3c-e37b-4556-bf7e-8a302e6e0bc2",
   "metadata": {},
   "outputs": [],
   "source": [
    "timepoints = np.linspace(0,5,100,dtype='f')\n",
    "\n",
    "nA = 6.022*10**23\n",
    "\n",
    "\n",
    "Fv = 1*10**-7\n",
    "kcat = 6.44  #scaling down the kcat value so the integration doesn't break.\n",
    "Km  = 7.14*10**-7 * nA\n",
    "Ki = 1.74 *10**-6 * nA\n",
    "k1 = 1.02*10**4\n",
    "k2 = 6.08*10**2\n",
    "\n",
    "Sb0 = 20*10**-6 *nA\n",
    "Sc0 = 0.0\n",
    "Pc0 = 0.0\n",
    "Ic0 = 0.0"
   ]
  },
  {
   "cell_type": "code",
   "execution_count": 44,
   "id": "2f456fae-2c62-4ddd-b801-e28a447145b0",
   "metadata": {},
   "outputs": [],
   "source": [
    "### my bright idea - is the Km value being used wrong because it's the apparent Km from fitting data without inclusion of Ki in the model???? I can't seem to see the real Km in the paper, \n",
    "### but it should be able to be determined from the paper's data"
   ]
  },
  {
   "cell_type": "code",
   "execution_count": 45,
   "id": "6001987c-8909-49dd-9830-9f5a4c9c3610",
   "metadata": {},
   "outputs": [],
   "source": [
    "y0 = [Sb0,Sc0,Pc0,Ic0]\n",
    "def nanoreactor(y,t):\n",
    "    Sb,Sc,Pc,Ic = y\n",
    "    dpdt = (kcat*Sc)/(Km + Sc + ((Km*Ic)/Ki))\n",
    "    dsdt = -(1/Fv*dpdt) + ((k1*Sb)-(k1*Sc))\n",
    "    didt = (1/Fv*dpdt) - (k2*Ic)\n",
    "    dydt = [0,dsdt,dpdt,didt]\n",
    "    return dydt"
   ]
  },
  {
   "cell_type": "code",
   "execution_count": 46,
   "id": "55470067-4898-451c-8dc2-27308b492e89",
   "metadata": {},
   "outputs": [],
   "source": [
    "testoutput = scipy.integrate.odeint(nanoreactor,y0,timepoints)"
   ]
  },
  {
   "cell_type": "code",
   "execution_count": 47,
   "id": "197a4885-7d6a-4a04-94b2-ee204111857b",
   "metadata": {
    "tags": []
   },
   "outputs": [
    {
     "data": {
      "text/plain": [
       "<matplotlib.legend.Legend at 0x7f32233e1f10>"
      ]
     },
     "execution_count": 47,
     "metadata": {},
     "output_type": "execute_result"
    },
    {
     "data": {
      "image/png": "[encoded data removed]",
      "text/plain": [
       "<Figure size 432x288 with 1 Axes>"
      ]
     },
     "metadata": {
      "needs_background": "light"
     },
     "output_type": "display_data"
    }
   ],
   "source": [
    "fig,ax = plt.subplots()\n",
    "\n",
    "ax.plot(timepoints,testoutput,label = ['Sb','Sc','Pc','Ic'])\n",
    "ax.legend()"
   ]
  },
  {
   "cell_type": "code",
   "execution_count": 49,
   "id": "9925f811-117a-42f7-b816-cdf713992cae",
   "metadata": {
    "collapsed": true,
    "jupyter": {
     "outputs_hidden": true
    },
    "tags": []
   },
   "outputs": [
    {
     "data": {
      "text/plain": [
       "array([     0.        , 102270.01293471, 102270.01319765, 102270.01316145,\n",
       "       102270.01316152, 102270.01316158, 102270.01316165, 102270.0131617 ,\n",
       "       102270.0131617 , 102270.0131617 , 102270.01316171, 102270.01316171,\n",
       "       102270.01316171, 102270.01316171, 102270.01316171, 102270.01316171,\n",
       "       102270.01316171, 102270.01316171, 102270.01316171, 102270.01316171,\n",
       "       102270.01316171, 102270.01316171, 102270.01316171, 102270.01316171,\n",
       "       102270.01316171, 102270.01316171, 102270.01316171, 102270.01316171,\n",
       "       102270.01316171, 102270.01316171, 102270.01316171, 102270.01316171,\n",
       "       102270.01316171, 102270.01316171, 102270.01316171, 102270.01316171,\n",
       "       102270.01316171, 102270.01316171, 102270.01316171, 102270.01316171,\n",
       "       102270.01316171, 102270.01316171, 102270.01316171, 102270.01316171,\n",
       "       102270.01316171, 102270.01316171, 102270.01316171, 102270.01316171,\n",
       "       102270.01316171, 102270.01316171, 102270.01316171, 102270.01316171,\n",
       "       102270.01316171, 102270.01316171, 102270.01316171, 102270.01316171,\n",
       "       102270.01316171, 102270.01316171, 102270.01316171, 102270.01316171,\n",
       "       102270.01316171, 102270.01316171, 102270.01316171, 102270.01316171,\n",
       "       102270.01316171, 102270.01316171, 102270.01316171, 102270.01316171,\n",
       "       102270.01316171, 102270.01316171, 102270.01316171, 102270.01316171,\n",
       "       102270.01316171, 102270.01316171, 102270.01316171, 102270.01316171,\n",
       "       102270.01316171, 102270.01316171, 102270.01316171, 102270.01316171,\n",
       "       102270.01316171, 102270.01316171, 102270.01316171, 102270.01316171,\n",
       "       102270.01316171, 102270.01316171, 102270.01316171, 102270.01316171,\n",
       "       102270.01316171, 102270.01316171, 102270.01316171, 102270.01316171,\n",
       "       102270.01316171, 102270.01316171, 102270.01316171, 102270.01316171,\n",
       "       102270.01316171, 102270.01316171, 102270.01316171, 102270.01316171])"
      ]
     },
     "execution_count": 49,
     "metadata": {},
     "output_type": "execute_result"
    }
   ],
   "source": [
    "testoutput[:,3]"
   ]
  },
  {
   "cell_type": "code",
   "execution_count": 51,
   "id": "58ba52d3-12b9-456b-8cf4-ba59823eafc5",
   "metadata": {
    "collapsed": true,
    "jupyter": {
     "outputs_hidden": true
    },
    "tags": []
   },
   "outputs": [
    {
     "data": {
      "text/plain": [
       "array([0.00000000e+00, 5.21368242e-25, 1.04285819e-24, 1.56434821e-24,\n",
       "       2.08583808e-24, 2.60732796e-24, 3.12881813e-24, 3.65030800e-24,\n",
       "       4.17179788e-24, 4.69328805e-24, 5.21477762e-24, 5.73626810e-24,\n",
       "       6.25775797e-24, 6.77924784e-24, 7.30073771e-24, 7.82222759e-24,\n",
       "       8.34371746e-24, 8.86520733e-24, 9.38669781e-24, 9.90818768e-24,\n",
       "       1.04296769e-23, 1.09511668e-23, 1.14726579e-23, 1.19941478e-23,\n",
       "       1.25156377e-23, 1.30371275e-23, 1.35586174e-23, 1.40801073e-23,\n",
       "       1.46015971e-23, 1.51230870e-23, 1.56445769e-23, 1.61660667e-23,\n",
       "       1.66875566e-23, 1.72090465e-23, 1.77305364e-23, 1.82520262e-23,\n",
       "       1.87735173e-23, 1.92950072e-23, 1.98164971e-23, 2.03379869e-23,\n",
       "       2.08594756e-23, 2.13809667e-23, 2.19024553e-23, 2.24239464e-23,\n",
       "       2.29454375e-23, 2.34669262e-23, 2.39884173e-23, 2.45099059e-23,\n",
       "       2.50313970e-23, 2.55528857e-23, 2.60743768e-23, 2.65958654e-23,\n",
       "       2.71173565e-23, 2.76388451e-23, 2.81603362e-23, 2.86818249e-23,\n",
       "       2.92033160e-23, 2.97248071e-23, 3.02462957e-23, 3.07677868e-23,\n",
       "       3.12892755e-23, 3.18107666e-23, 3.23322552e-23, 3.28537463e-23,\n",
       "       3.33752349e-23, 3.38967260e-23, 3.44182147e-23, 3.49397058e-23,\n",
       "       3.54611944e-23, 3.59826855e-23, 3.65041742e-23, 3.70256653e-23,\n",
       "       3.75471564e-23, 3.80686450e-23, 3.85901361e-23, 3.91116248e-23,\n",
       "       3.96331159e-23, 4.01546045e-23, 4.06760956e-23, 4.11975842e-23,\n",
       "       4.17190729e-23, 4.22405640e-23, 4.27620551e-23, 4.32835462e-23,\n",
       "       4.38050324e-23, 4.43265235e-23, 4.48480146e-23, 4.53695057e-23,\n",
       "       4.58909968e-23, 4.64124829e-23, 4.69339740e-23, 4.74554651e-23,\n",
       "       4.79769562e-23, 4.84984424e-23, 4.90199335e-23, 4.95414246e-23,\n",
       "       5.00629157e-23, 5.05844019e-23, 5.11058930e-23, 5.16273841e-23])"
      ]
     },
     "execution_count": 51,
     "metadata": {},
     "output_type": "execute_result"
    }
   ],
   "source": [
    "testoutput[:,2] / nA #M of product produced from 1 enzyme"
   ]
  },
  {
   "cell_type": "code",
   "execution_count": 54,
   "id": "559849a7-ff5d-4db7-a38b-b92fa9d96e44",
   "metadata": {
    "collapsed": true,
    "jupyter": {
     "outputs_hidden": true
    },
    "tags": []
   },
   "outputs": [
    {
     "data": {
      "text/plain": [
       "array([0.00000000e+00, 6.27935911e-10, 1.25601840e-09, 1.88410099e-09,\n",
       "       2.51218339e-09, 3.14026579e-09, 3.76834856e-09, 4.39643096e-09,\n",
       "       5.02451336e-09, 5.65259613e-09, 6.28067816e-09, 6.90876130e-09,\n",
       "       7.53684370e-09, 8.16492610e-09, 8.79300850e-09, 9.42109090e-09,\n",
       "       1.00491733e-08, 1.06772557e-08, 1.13053388e-08, 1.19334212e-08,\n",
       "       1.25615029e-08, 1.31895853e-08, 1.38176692e-08, 1.44457516e-08,\n",
       "       1.50738340e-08, 1.57019164e-08, 1.63299988e-08, 1.69580812e-08,\n",
       "       1.75861636e-08, 1.82142460e-08, 1.88423284e-08, 1.94704108e-08,\n",
       "       2.00984932e-08, 2.07265756e-08, 2.13546580e-08, 2.19827404e-08,\n",
       "       2.26108243e-08, 2.32389067e-08, 2.38669891e-08, 2.44950715e-08,\n",
       "       2.51231524e-08, 2.57512363e-08, 2.63793172e-08, 2.70074011e-08,\n",
       "       2.76354850e-08, 2.82635659e-08, 2.88916498e-08, 2.95197307e-08,\n",
       "       3.01478146e-08, 3.07758955e-08, 3.14039794e-08, 3.20320603e-08,\n",
       "       3.26601442e-08, 3.32882251e-08, 3.39163090e-08, 3.45443899e-08,\n",
       "       3.51724738e-08, 3.58005576e-08, 3.64286386e-08, 3.70567224e-08,\n",
       "       3.76848034e-08, 3.83128872e-08, 3.89409682e-08, 3.95690520e-08,\n",
       "       4.01971330e-08, 4.08252168e-08, 4.14532978e-08, 4.20813816e-08,\n",
       "       4.27094626e-08, 4.33375464e-08, 4.39656274e-08, 4.45937112e-08,\n",
       "       4.52217951e-08, 4.58498760e-08, 4.64779599e-08, 4.71060408e-08,\n",
       "       4.77341247e-08, 4.83622056e-08, 4.89902895e-08, 4.96183705e-08,\n",
       "       5.02464514e-08, 5.08745353e-08, 5.15026191e-08, 5.21307030e-08,\n",
       "       5.27587810e-08, 5.33868649e-08, 5.40149487e-08, 5.46430326e-08,\n",
       "       5.52711165e-08, 5.58991945e-08, 5.65272783e-08, 5.71553622e-08,\n",
       "       5.77834461e-08, 5.84115241e-08, 5.90396079e-08, 5.96676918e-08,\n",
       "       6.02957757e-08, 6.09238537e-08, 6.15519375e-08, 6.21800214e-08])"
      ]
     },
     "execution_count": 54,
     "metadata": {},
     "output_type": "execute_result"
    }
   ],
   "source": [
    "(testoutput[:,2]/nA)*(1.2044*10**15)"
   ]
  },
  {
   "cell_type": "code",
   "execution_count": null,
   "id": "c014efe7-0232-4de3-95b1-c18d561e02a0",
   "metadata": {},
   "outputs": [],
   "source": [
    "### rescaled the Km of the enzyme to be the true one but still getting numbers that are off."
   ]
  },
  {
   "cell_type": "code",
   "execution_count": 82,
   "id": "96f8482d-cb9c-4570-abbb-519e5a8ae737",
   "metadata": {},
   "outputs": [],
   "source": [
    "timepoints = np.linspace(0,5,100,dtype='f')\n",
    "\n",
    "nA = 6.022*10**23\n",
    "\n",
    "\n",
    "Fv = 1*10**-7\n",
    "kcat = 6.44  #scaling down the kcat value so the integration doesn't break.\n",
    "Km  = 7.14*10**-7 * nA\n",
    "Ki = 1.74 *10**-6 * nA\n",
    "k1 = 1.02*10**4\n",
    "k2 = 6.08*10**2\n",
    "\n",
    "Sb0 = 20*10**-6 *nA\n",
    "Sc0 = 0.0\n",
    "Pc0 = 0.0\n",
    "Ic0 = 0.0"
   ]
  },
  {
   "cell_type": "code",
   "execution_count": 83,
   "id": "68568d07-fe19-4a93-a876-051d751b4b5f",
   "metadata": {},
   "outputs": [],
   "source": [
    "S0 = Sb0\n",
    "P0 = Pc0\n",
    "I0 = Ic0\n",
    "y0 = [S0,P0,I0]\n",
    "def MM_product_inhibition(y,t):\n",
    "    S,P,I = y\n",
    "    dpdt = (kcat*S)/(Km + S + ((Km*I)/Ki))\n",
    "    dsdt = -(dpdt)\n",
    "    didt = (dpdt)\n",
    "    dydt = [dsdt,dpdt,didt]\n",
    "    return dydt"
   ]
  },
  {
   "cell_type": "code",
   "execution_count": 84,
   "id": "6596038d-0c2b-4042-b295-e260aa9f45ca",
   "metadata": {},
   "outputs": [],
   "source": [
    "testoutput = scipy.integrate.odeint(MM_product_inhibition,y0,timepoints)"
   ]
  },
  {
   "cell_type": "code",
   "execution_count": 85,
   "id": "dbba61ae-4e70-4fd1-b28b-fc1dd40e91d0",
   "metadata": {
    "tags": []
   },
   "outputs": [
    {
     "data": {
      "text/plain": [
       "<matplotlib.legend.Legend at 0x7f322274f760>"
      ]
     },
     "execution_count": 85,
     "metadata": {},
     "output_type": "execute_result"
    },
    {
     "data": {
      "image/png": "[encoded data removed]",
      "text/plain": [
       "<Figure size 432x288 with 1 Axes>"
      ]
     },
     "metadata": {
      "needs_background": "light"
     },
     "output_type": "display_data"
    }
   ],
   "source": [
    "fig,ax = plt.subplots()\n",
    "\n",
    "ax.plot(timepoints,testoutput,label = ['S','P','I'])\n",
    "ax.legend()"
   ]
  },
  {
   "cell_type": "code",
   "execution_count": 86,
   "id": "e0f4640b-bf18-45df-89b2-fce2606696d5",
   "metadata": {},
   "outputs": [
    {
     "data": {
      "text/plain": [
       "array([ 0.        ,  0.31404125,  0.62808249,  0.94212379,  1.25616499,\n",
       "        1.57020619,  1.88424757,  2.19828877,  2.51232997,  2.82637136,\n",
       "        3.14041237,  3.45445394,  3.76849514,  4.08253634,  4.39657754,\n",
       "        4.71061874,  5.02465994,  5.33870114,  5.65274271,  5.96678391,\n",
       "        6.28082474,  6.59486594,  6.90890789,  7.22294909,  7.53699029,\n",
       "        7.85103149,  8.16507269,  8.47911389,  8.79315509,  9.10719629,\n",
       "        9.42123749,  9.73527869, 10.04931989, 10.36336109, 10.67740229,\n",
       "       10.99144349, 11.30548543, 11.61952663, 11.93356783, 12.24760903,\n",
       "       12.56164949, 12.87569143, 13.18973189, 13.50377383, 13.81781577,\n",
       "       14.13185623, 14.44589817, 14.75993863, 15.07398057, 15.38802103,\n",
       "       15.70206297, 16.01610343, 16.33014537, 16.64418583, 16.95822777,\n",
       "       17.27226823, 17.58631017, 17.90035211, 18.21439257, 18.52843451,\n",
       "       18.84247497, 19.15651691, 19.47055737, 19.78459931, 20.09863977,\n",
       "       20.41268171, 20.72672217, 21.04076411, 21.35480457, 21.66884651,\n",
       "       21.98288697, 22.29692892, 22.61097086, 22.92501132, 23.23905326,\n",
       "       23.55309372, 23.86713566, 24.18117612, 24.49521806, 24.80925852,\n",
       "       25.12329898, 25.43734092, 25.75138286, 26.0654248 , 26.37946378,\n",
       "       26.69350572, 27.00754766, 27.3215896 , 27.63563154, 27.94967052,\n",
       "       28.26371246, 28.5777544 , 28.89179634, 29.20583532, 29.51987726,\n",
       "       29.8339192 , 30.14796114, 30.46200012, 30.77604206, 31.090084  ])"
      ]
     },
     "execution_count": 86,
     "metadata": {},
     "output_type": "execute_result"
    }
   ],
   "source": [
    "testoutput[:,1]"
   ]
  },
  {
   "cell_type": "code",
   "execution_count": 87,
   "id": "2490044e-f171-4148-8aee-3eee74a2fbd7",
   "metadata": {},
   "outputs": [
    {
     "data": {
      "text/plain": [
       "array([ 0.        ,  0.31404125,  0.62808249,  0.94212379,  1.25616499,\n",
       "        1.57020619,  1.88424757,  2.19828877,  2.51232997,  2.82637136,\n",
       "        3.14041237,  3.45445394,  3.76849514,  4.08253634,  4.39657754,\n",
       "        4.71061874,  5.02465994,  5.33870114,  5.65274271,  5.96678391,\n",
       "        6.28082474,  6.59486594,  6.90890789,  7.22294909,  7.53699029,\n",
       "        7.85103149,  8.16507269,  8.47911389,  8.79315509,  9.10719629,\n",
       "        9.42123749,  9.73527869, 10.04931989, 10.36336109, 10.67740229,\n",
       "       10.99144349, 11.30548543, 11.61952663, 11.93356783, 12.24760903,\n",
       "       12.56164949, 12.87569143, 13.18973189, 13.50377383, 13.81781577,\n",
       "       14.13185623, 14.44589817, 14.75993863, 15.07398057, 15.38802103,\n",
       "       15.70206297, 16.01610343, 16.33014537, 16.64418583, 16.95822777,\n",
       "       17.27226823, 17.58631017, 17.90035211, 18.21439257, 18.52843451,\n",
       "       18.84247497, 19.15651691, 19.47055737, 19.78459931, 20.09863977,\n",
       "       20.41268171, 20.72672217, 21.04076411, 21.35480457, 21.66884651,\n",
       "       21.98288697, 22.29692892, 22.61097086, 22.92501132, 23.23905326,\n",
       "       23.55309372, 23.86713566, 24.18117612, 24.49521806, 24.80925852,\n",
       "       25.12329898, 25.43734092, 25.75138286, 26.0654248 , 26.37946378,\n",
       "       26.69350572, 27.00754766, 27.3215896 , 27.63563154, 27.94967052,\n",
       "       28.26371246, 28.5777544 , 28.89179634, 29.20583532, 29.51987726,\n",
       "       29.8339192 , 30.14796114, 30.46200012, 30.77604206, 31.090084  ])"
      ]
     },
     "execution_count": 87,
     "metadata": {},
     "output_type": "execute_result"
    }
   ],
   "source": [
    "testoutput[:,2]"
   ]
  },
  {
   "cell_type": "code",
   "execution_count": 89,
   "id": "0fd96e6a-5977-4177-aa46-64628b5ac5b6",
   "metadata": {},
   "outputs": [
    {
     "data": {
      "text/plain": [
       "6.218016800231723"
      ]
     },
     "execution_count": 89,
     "metadata": {},
     "output_type": "execute_result"
    }
   ],
   "source": [
    "v20 = scipy.stats.linregress(timepoints,testoutput[:,1])\n",
    "v20.slope"
   ]
  },
  {
   "cell_type": "code",
   "execution_count": null,
   "id": "f5f4ceb7-3100-4e7e-bc06-d811a6835884",
   "metadata": {},
   "outputs": [],
   "source": [
    "## when removing the compartment stuff, the system behaves as expected - equal amounts of substrate and product being produced"
   ]
  },
  {
   "cell_type": "code",
   "execution_count": 90,
   "id": "75ebf755-9ec8-4c4a-adaa-e95231f18ff0",
   "metadata": {},
   "outputs": [],
   "source": [
    "timepoints = np.linspace(0,5,100,dtype='f')\n",
    "\n",
    "nA = 6.022*10**23\n",
    "\n",
    "\n",
    "Fv = 1*10**-7\n",
    "kcat = 11.66  \n",
    "Km  = 7.14*10**-7 * nA\n",
    "Ki = 1.74 *10**-6 * nA\n",
    "k1 = 1.02*10**4\n",
    "k2 = 6.08*10**2\n",
    "\n",
    "Sb0 = 20*10**-6 *nA\n",
    "Sc0 = 0.0\n",
    "Pc0 = 0.0\n",
    "Ic0 = 0.0"
   ]
  },
  {
   "cell_type": "code",
   "execution_count": 91,
   "id": "5660797b-82a7-43c7-9135-4044159a15af",
   "metadata": {},
   "outputs": [],
   "source": [
    "S0 = Sb0\n",
    "P0 = Pc0\n",
    "I0 = Ic0\n",
    "y0 = [S0,P0,I0]\n",
    "def MM_product_inhibition(y,t):\n",
    "    S,P,I = y\n",
    "    dpdt = (kcat*S)/(Km + S + ((Km*I)/Ki))\n",
    "    dsdt = -(dpdt)\n",
    "    didt = (dpdt)\n",
    "    dydt = [dsdt,dpdt,didt]\n",
    "    return dydt"
   ]
  },
  {
   "cell_type": "code",
   "execution_count": 92,
   "id": "a53abddb-a1af-4529-bec9-5158c66ad9fd",
   "metadata": {},
   "outputs": [],
   "source": [
    "testoutput = scipy.integrate.odeint(MM_product_inhibition,y0,timepoints)"
   ]
  },
  {
   "cell_type": "code",
   "execution_count": 93,
   "id": "69b4ac86-5389-4649-b0b0-6b296f20f6ec",
   "metadata": {
    "tags": []
   },
   "outputs": [
    {
     "data": {
      "text/plain": [
       "<matplotlib.legend.Legend at 0x7f32226b7a90>"
      ]
     },
     "execution_count": 93,
     "metadata": {},
     "output_type": "execute_result"
    },
    {
     "data": {
      "image/png": "[encoded data removed]",
      "text/plain": [
       "<Figure size 432x288 with 1 Axes>"
      ]
     },
     "metadata": {
      "needs_background": "light"
     },
     "output_type": "display_data"
    }
   ],
   "source": [
    "fig,ax = plt.subplots()\n",
    "\n",
    "ax.plot(timepoints,testoutput,label = ['S','P','I'])\n",
    "ax.legend()"
   ]
  },
  {
   "cell_type": "code",
   "execution_count": 94,
   "id": "b0bc7be5-0be7-4c26-b1db-ef90e6be2260",
   "metadata": {},
   "outputs": [
    {
     "data": {
      "text/plain": [
       "array([ 0.        ,  0.56859021,  1.13718041,  1.70577071,  2.27436083,\n",
       "        2.84295095,  3.41154141,  3.98013153,  4.54872166,  5.11731212,\n",
       "        5.6859019 ,  6.2544927 ,  6.82308282,  7.39167294,  7.96026307,\n",
       "        8.52885319,  9.09744331,  9.66603344, 10.23462423, 10.80321435,\n",
       "       11.37180381, 11.94039393, 12.50898539, 13.07757552, 13.64616564,\n",
       "       14.21475576, 14.78334589, 15.35193601, 15.92052613, 16.48911626,\n",
       "       17.05770638, 17.6262965 , 18.19488663, 18.76347675, 19.33206687,\n",
       "       19.900657  , 20.46924846, 21.03783858, 21.60642871, 22.17501883,\n",
       "       22.74360761, 23.31219908, 23.88078786, 24.44937932, 25.01797079,\n",
       "       25.58655957, 26.15515104, 26.72373982, 27.29233128, 27.86092006,\n",
       "       28.42951153, 28.99810031, 29.56669178, 30.13528056, 30.70387202,\n",
       "       31.2724608 , 31.84105227, 32.40964373, 32.97823251, 33.54682398,\n",
       "       34.11541276, 34.68400423, 35.25259301, 35.82118447, 36.38977325,\n",
       "       36.95836472, 37.5269535 , 38.09554497, 38.66413375, 39.23272521,\n",
       "       39.80131399, 40.36990546, 40.93849692, 41.5070857 , 42.07567717,\n",
       "       42.64426595, 43.21285742, 43.7814462 , 44.35003766, 44.91862644,\n",
       "       45.48721522, 46.05580669, 46.62439816, 47.19298962, 47.76157572,\n",
       "       48.33016718, 48.89875865, 49.46735011, 50.03594158, 50.60452768,\n",
       "       51.17311914, 51.74171061, 52.31030207, 52.87888817, 53.44747963,\n",
       "       54.0160711 , 54.58466256, 55.15324866, 55.72184013, 56.29043159])"
      ]
     },
     "execution_count": 94,
     "metadata": {},
     "output_type": "execute_result"
    }
   ],
   "source": [
    "testoutput[:,1]"
   ]
  },
  {
   "cell_type": "code",
   "execution_count": 95,
   "id": "e5b17581-b0fd-42a0-b8f8-1ddc7ec3e2b9",
   "metadata": {},
   "outputs": [],
   "source": [
    "v20 = scipy.stats.linregress(timepoints,testoutput[:,1])"
   ]
  },
  {
   "cell_type": "code",
   "execution_count": 97,
   "id": "6b87d1fd-c9f9-45b9-a5e3-0b8e49d0e78e",
   "metadata": {},
   "outputs": [
    {
     "data": {
      "text/plain": [
       "11.258086318431978"
      ]
     },
     "execution_count": 97,
     "metadata": {},
     "output_type": "execute_result"
    }
   ],
   "source": [
    "v20.slope #slope is in"
   ]
  },
  {
   "cell_type": "code",
   "execution_count": 98,
   "id": "8362d01f-f656-47f2-a501-28e18b628555",
   "metadata": {},
   "outputs": [],
   "source": [
    "timepoints = np.linspace(0,5,100,dtype='f')\n",
    "\n",
    "nA = 6.022*10**23\n",
    "\n",
    "\n",
    "Fv = 1*10**-7\n",
    "kcat = 11.66 / nA\n",
    "Km  = 7.14*10**-7\n",
    "Ki = 1.74 *10**-6\n",
    "k1 = 1.02*10**4\n",
    "k2 = 6.08*10**2\n",
    "\n",
    "Sb0 = 20*10**-6\n",
    "Sc0 = 0.0\n",
    "Pc0 = 0.0\n",
    "Ic0 = 0.0"
   ]
  },
  {
   "cell_type": "code",
   "execution_count": 99,
   "id": "d8c37f6c-f4c8-443a-bb1d-f09a9e8d8e3a",
   "metadata": {},
   "outputs": [],
   "source": [
    "S0 = Sb0\n",
    "P0 = Pc0\n",
    "I0 = Ic0\n",
    "y0 = [S0,P0,I0]\n",
    "def MM_product_inhibition(y,t):\n",
    "    S,P,I = y\n",
    "    dpdt = (kcat*S)/(Km + S + ((Km*I)/Ki))\n",
    "    dsdt = -(dpdt)\n",
    "    didt = (dpdt)\n",
    "    dydt = [dsdt,dpdt,didt]\n",
    "    return dydt"
   ]
  },
  {
   "cell_type": "code",
   "execution_count": 100,
   "id": "d916a02f-6648-4ccd-ba45-165ae2170bc1",
   "metadata": {},
   "outputs": [],
   "source": [
    "testoutput = scipy.integrate.odeint(MM_product_inhibition,y0,timepoints)"
   ]
  },
  {
   "cell_type": "code",
   "execution_count": 101,
   "id": "4cb445cd-00a2-406b-a05a-74b7d2b071fa",
   "metadata": {
    "tags": []
   },
   "outputs": [
    {
     "data": {
      "text/plain": [
       "<matplotlib.legend.Legend at 0x7f322254e340>"
      ]
     },
     "execution_count": 101,
     "metadata": {},
     "output_type": "execute_result"
    },
    {
     "data": {
      "image/png": "[encoded data removed]",
      "text/plain": [
       "<Figure size 432x288 with 1 Axes>"
      ]
     },
     "metadata": {
      "needs_background": "light"
     },
     "output_type": "display_data"
    }
   ],
   "source": [
    "fig,ax = plt.subplots()\n",
    "\n",
    "ax.plot(timepoints,testoutput,label = ['S','P','I'])\n",
    "ax.legend()"
   ]
  },
  {
   "cell_type": "code",
   "execution_count": 102,
   "id": "0c8ddcee-f194-41d3-b6cf-bc303cfa5678",
   "metadata": {},
   "outputs": [
    {
     "data": {
      "text/plain": [
       "array([0.00000000e+00, 9.44188321e-25, 1.88837664e-24, 2.83256510e-24,\n",
       "       3.77675329e-24, 4.72094147e-24, 5.66513021e-24, 6.60931839e-24,\n",
       "       7.55350657e-24, 8.49769531e-24, 9.44188293e-24, 1.03860722e-23,\n",
       "       1.13302604e-23, 1.22744486e-23, 1.32186368e-23, 1.41628250e-23,\n",
       "       1.51070131e-23, 1.60512013e-23, 1.69953906e-23, 1.79395788e-23,\n",
       "       1.88837659e-23, 1.98279541e-23, 2.07721445e-23, 2.17163326e-23,\n",
       "       2.26605208e-23, 2.36047090e-23, 2.45488972e-23, 2.54930854e-23,\n",
       "       2.64372736e-23, 2.73814617e-23, 2.83256499e-23, 2.92698381e-23,\n",
       "       3.02140263e-23, 3.11582145e-23, 3.21024026e-23, 3.30465908e-23,\n",
       "       3.39907812e-23, 3.49349694e-23, 3.58791576e-23, 3.68233458e-23,\n",
       "       3.77675317e-23, 3.87117221e-23, 3.96559081e-23, 4.06000985e-23,\n",
       "       4.15442889e-23, 4.24884749e-23, 4.34326653e-23, 4.43768512e-23,\n",
       "       4.53210417e-23, 4.62652276e-23, 4.72094180e-23, 4.81536040e-23,\n",
       "       4.90977944e-23, 5.00419803e-23, 5.09861707e-23, 5.19303567e-23,\n",
       "       5.28745471e-23, 5.38187375e-23, 5.47629235e-23, 5.57071139e-23,\n",
       "       5.66512998e-23, 5.75954902e-23, 5.85396762e-23, 5.94838666e-23,\n",
       "       6.04280526e-23, 6.13722430e-23, 6.23164289e-23, 6.32606193e-23,\n",
       "       6.42048053e-23, 6.51489957e-23, 6.60931817e-23, 6.70373721e-23,\n",
       "       6.79815625e-23, 6.89257484e-23, 6.98699388e-23, 7.08141248e-23,\n",
       "       7.17583152e-23, 7.27025012e-23, 7.36466916e-23, 7.45908775e-23,\n",
       "       7.55350635e-23, 7.64792539e-23, 7.74234443e-23, 7.83676347e-23,\n",
       "       7.93118162e-23, 8.02560066e-23, 8.12001970e-23, 8.21443874e-23,\n",
       "       8.30885778e-23, 8.40327593e-23, 8.49769498e-23, 8.59211402e-23,\n",
       "       8.68653306e-23, 8.78095121e-23, 8.87537025e-23, 8.96978929e-23,\n",
       "       9.06420833e-23, 9.15862648e-23, 9.25304552e-23, 9.34746456e-23])"
      ]
     },
     "execution_count": 102,
     "metadata": {},
     "output_type": "execute_result"
    }
   ],
   "source": [
    "testoutput[:,1]"
   ]
  },
  {
   "cell_type": "code",
   "execution_count": 105,
   "id": "9987b2c1-d01d-4249-9605-b7b8d8d64cbb",
   "metadata": {},
   "outputs": [],
   "source": [
    "v20 = scipy.stats.linregress(timepoints,testoutput[:,1])"
   ]
  },
  {
   "cell_type": "code",
   "execution_count": 106,
   "id": "384fcb05-9825-4fd5-88c3-c0e41126b4aa",
   "metadata": {},
   "outputs": [
    {
     "data": {
      "text/plain": [
       "11.258086318431985"
      ]
     },
     "execution_count": 106,
     "metadata": {},
     "output_type": "execute_result"
    }
   ],
   "source": [
    "v20.slope * nA #slope is in"
   ]
  },
  {
   "cell_type": "code",
   "execution_count": null,
   "id": "611baeb3-861c-4403-97dd-84e4e5a31025",
   "metadata": {},
   "outputs": [],
   "source": [
    "### Okay I must have confused myself at one point - I thought that by scaling up the concentrations of substrates and products (to molecules instead of mol) that I didn't need to re-scale the slope??? \n",
    "### Compared to scaling down the kcat (by dividing by nA to get mol per second instead of molecules), in both instances I still need to multiply the slope by avogadro's number to get the right velocity\n",
    "### in per s per M of enzyme\n",
    "\n",
    "\n",
    "### Actually the above is incorrect - because I was copying and pasting code I was getting the slope from a previous output, where the kcat was scaled down instead of concentrations scaled up.\n",
    "### This is why the initiial slopes needed rescaling. When I used the proper output from scaled down kcat, I needed to rescale the slope, when using the output from scaled up concentrations, I did not."
   ]
  },
  {
   "cell_type": "code",
   "execution_count": 107,
   "id": "7d755603-a241-4001-8570-e35be4ffce47",
   "metadata": {},
   "outputs": [],
   "source": [
    "timepoints = np.linspace(0,5,100,dtype='f')\n",
    "\n",
    "nA = 6.022*10**23\n",
    "\n",
    "\n",
    "Fv = 1*10**-7\n",
    "kcat = 11.66  \n",
    "Km  = 7.14*10**-7 * nA\n",
    "Ki = 1.74 *10**-6 * nA\n",
    "k1 = 1.02*10**4\n",
    "k2 = 6.08*10**2\n",
    "\n",
    "Sb0 = 20*10**-6 *nA\n",
    "Sc0 = 0.0\n",
    "Pc0 = 0.0\n",
    "Ic0 = 0.0"
   ]
  },
  {
   "cell_type": "code",
   "execution_count": 109,
   "id": "a5361a29-a05d-4692-a6cd-69a3721f08f2",
   "metadata": {},
   "outputs": [],
   "source": [
    "y0 = [Sb0,Sc0,Pc0,Ic0]\n",
    "\n",
    "def nanoreactor_nov(y,t):\n",
    "    Sb,Sc,Pc,Ic = y\n",
    "    dpdt = (kcat*Sc)/(Km + Sc + ((Km*Ic)/Ki))\n",
    "    dsdt = -(dpdt) + (k1*Sb - k1*Sc)\n",
    "    didt = (dpdt) - (k2*Ic)\n",
    "    dydt = [0,dsdt,dpdt,didt]\n",
    "    return dydt"
   ]
  },
  {
   "cell_type": "code",
   "execution_count": 110,
   "id": "315fc4b0-3dd8-4038-aaaf-f8da7a791a63",
   "metadata": {},
   "outputs": [],
   "source": [
    "testcompartment = scipy.integrate.odeint(nanoreactor_nov,y0,timepoints)"
   ]
  },
  {
   "cell_type": "code",
   "execution_count": 111,
   "id": "a6a1ecc5-2cc9-4771-b583-bac0c95d3003",
   "metadata": {
    "tags": []
   },
   "outputs": [
    {
     "data": {
      "text/plain": [
       "<matplotlib.legend.Legend at 0x7f32224b0370>"
      ]
     },
     "execution_count": 111,
     "metadata": {},
     "output_type": "execute_result"
    },
    {
     "data": {
      "image/png": "[encoded data removed]",
      "text/plain": [
       "<Figure size 432x288 with 1 Axes>"
      ]
     },
     "metadata": {
      "needs_background": "light"
     },
     "output_type": "display_data"
    }
   ],
   "source": [
    "fig,ax = plt.subplots()\n",
    "\n",
    "ax.plot(timepoints,testcompartment,label = ['Sb','Sc','Pc','Ic'])\n",
    "ax.legend()"
   ]
  },
  {
   "cell_type": "code",
   "execution_count": 112,
   "id": "f706741c-56c4-45e7-802d-4e41666b1057",
   "metadata": {},
   "outputs": [
    {
     "data": {
      "text/plain": [
       "array([1.2044e+19, 1.2044e+19, 1.2044e+19, 1.2044e+19, 1.2044e+19,\n",
       "       1.2044e+19, 1.2044e+19, 1.2044e+19, 1.2044e+19, 1.2044e+19,\n",
       "       1.2044e+19, 1.2044e+19, 1.2044e+19, 1.2044e+19, 1.2044e+19,\n",
       "       1.2044e+19, 1.2044e+19, 1.2044e+19, 1.2044e+19, 1.2044e+19,\n",
       "       1.2044e+19, 1.2044e+19, 1.2044e+19, 1.2044e+19, 1.2044e+19,\n",
       "       1.2044e+19, 1.2044e+19, 1.2044e+19, 1.2044e+19, 1.2044e+19,\n",
       "       1.2044e+19, 1.2044e+19, 1.2044e+19, 1.2044e+19, 1.2044e+19,\n",
       "       1.2044e+19, 1.2044e+19, 1.2044e+19, 1.2044e+19, 1.2044e+19,\n",
       "       1.2044e+19, 1.2044e+19, 1.2044e+19, 1.2044e+19, 1.2044e+19,\n",
       "       1.2044e+19, 1.2044e+19, 1.2044e+19, 1.2044e+19, 1.2044e+19,\n",
       "       1.2044e+19, 1.2044e+19, 1.2044e+19, 1.2044e+19, 1.2044e+19,\n",
       "       1.2044e+19, 1.2044e+19, 1.2044e+19, 1.2044e+19, 1.2044e+19,\n",
       "       1.2044e+19, 1.2044e+19, 1.2044e+19, 1.2044e+19, 1.2044e+19,\n",
       "       1.2044e+19, 1.2044e+19, 1.2044e+19, 1.2044e+19, 1.2044e+19,\n",
       "       1.2044e+19, 1.2044e+19, 1.2044e+19, 1.2044e+19, 1.2044e+19,\n",
       "       1.2044e+19, 1.2044e+19, 1.2044e+19, 1.2044e+19, 1.2044e+19,\n",
       "       1.2044e+19, 1.2044e+19, 1.2044e+19, 1.2044e+19, 1.2044e+19,\n",
       "       1.2044e+19, 1.2044e+19, 1.2044e+19, 1.2044e+19, 1.2044e+19,\n",
       "       1.2044e+19, 1.2044e+19, 1.2044e+19, 1.2044e+19, 1.2044e+19,\n",
       "       1.2044e+19, 1.2044e+19, 1.2044e+19, 1.2044e+19, 1.2044e+19])"
      ]
     },
     "execution_count": 112,
     "metadata": {},
     "output_type": "execute_result"
    }
   ],
   "source": [
    "testcompartment[:,0] #Substrate in bulk is at 20 uM"
   ]
  },
  {
   "cell_type": "code",
   "execution_count": 113,
   "id": "deec2eb6-16d5-4cf9-9933-80849938970a",
   "metadata": {},
   "outputs": [
    {
     "data": {
      "text/plain": [
       "array([0.0000e+00, 1.2044e+19, 1.2044e+19, 1.2044e+19, 1.2044e+19,\n",
       "       1.2044e+19, 1.2044e+19, 1.2044e+19, 1.2044e+19, 1.2044e+19,\n",
       "       1.2044e+19, 1.2044e+19, 1.2044e+19, 1.2044e+19, 1.2044e+19,\n",
       "       1.2044e+19, 1.2044e+19, 1.2044e+19, 1.2044e+19, 1.2044e+19,\n",
       "       1.2044e+19, 1.2044e+19, 1.2044e+19, 1.2044e+19, 1.2044e+19,\n",
       "       1.2044e+19, 1.2044e+19, 1.2044e+19, 1.2044e+19, 1.2044e+19,\n",
       "       1.2044e+19, 1.2044e+19, 1.2044e+19, 1.2044e+19, 1.2044e+19,\n",
       "       1.2044e+19, 1.2044e+19, 1.2044e+19, 1.2044e+19, 1.2044e+19,\n",
       "       1.2044e+19, 1.2044e+19, 1.2044e+19, 1.2044e+19, 1.2044e+19,\n",
       "       1.2044e+19, 1.2044e+19, 1.2044e+19, 1.2044e+19, 1.2044e+19,\n",
       "       1.2044e+19, 1.2044e+19, 1.2044e+19, 1.2044e+19, 1.2044e+19,\n",
       "       1.2044e+19, 1.2044e+19, 1.2044e+19, 1.2044e+19, 1.2044e+19,\n",
       "       1.2044e+19, 1.2044e+19, 1.2044e+19, 1.2044e+19, 1.2044e+19,\n",
       "       1.2044e+19, 1.2044e+19, 1.2044e+19, 1.2044e+19, 1.2044e+19,\n",
       "       1.2044e+19, 1.2044e+19, 1.2044e+19, 1.2044e+19, 1.2044e+19,\n",
       "       1.2044e+19, 1.2044e+19, 1.2044e+19, 1.2044e+19, 1.2044e+19,\n",
       "       1.2044e+19, 1.2044e+19, 1.2044e+19, 1.2044e+19, 1.2044e+19,\n",
       "       1.2044e+19, 1.2044e+19, 1.2044e+19, 1.2044e+19, 1.2044e+19,\n",
       "       1.2044e+19, 1.2044e+19, 1.2044e+19, 1.2044e+19, 1.2044e+19,\n",
       "       1.2044e+19, 1.2044e+19, 1.2044e+19, 1.2044e+19, 1.2044e+19])"
      ]
     },
     "execution_count": 113,
     "metadata": {},
     "output_type": "execute_result"
    }
   ],
   "source": [
    "testcompartment[:,1] #Substrate in compartment is at 20 uM"
   ]
  },
  {
   "cell_type": "code",
   "execution_count": 114,
   "id": "14e6a832-788c-45ed-9bb4-8b955a8aa40c",
   "metadata": {},
   "outputs": [
    {
     "data": {
      "text/plain": [
       "array([ 0.        ,  0.56845749,  1.1370477 ,  1.70563799,  2.27422811,\n",
       "        2.84281823,  3.41140869,  3.97999882,  4.54858894,  5.1171794 ,\n",
       "        5.68576918,  6.25435998,  6.8229501 ,  7.39154023,  7.96013035,\n",
       "        8.52872047,  9.0973106 ,  9.66590072, 10.23449151, 10.80308164,\n",
       "       11.37167109, 11.94026121, 12.50885268, 13.0774428 , 13.64603292,\n",
       "       14.21462305, 14.78321317, 15.35180329, 15.92039342, 16.48898354,\n",
       "       17.05757366, 17.62616379, 18.19475391, 18.76334403, 19.33193415,\n",
       "       19.90052428, 20.46911574, 21.03770587, 21.60629599, 22.17488611,\n",
       "       22.74347489, 23.31206636, 23.88065514, 24.44924661, 25.01783807,\n",
       "       25.58642685, 26.15501832, 26.7236071 , 27.29219856, 27.86078735,\n",
       "       28.42937881, 28.99796759, 29.56655906, 30.13514784, 30.7037393 ,\n",
       "       31.27232808, 31.84091955, 32.40951101, 32.9780998 , 33.54669126,\n",
       "       34.11528004, 34.68387151, 35.25246029, 35.82105175, 36.38964054,\n",
       "       36.958232  , 37.52682078, 38.09541225, 38.66400103, 39.23259249,\n",
       "       39.80118127, 40.36977274, 40.93836421, 41.50695299, 42.07554445,\n",
       "       42.64413323, 43.2127247 , 43.78131348, 44.34990494, 44.91849373,\n",
       "       45.48708251, 46.05567397, 46.62426544, 47.1928569 , 47.761443  ,\n",
       "       48.33003446, 48.89862593, 49.4672174 , 50.03580886, 50.60439496,\n",
       "       51.17298642, 51.74157789, 52.31016935, 52.87875545, 53.44734692,\n",
       "       54.01593838, 54.58452985, 55.15311594, 55.72170741, 56.29029887])"
      ]
     },
     "execution_count": 114,
     "metadata": {},
     "output_type": "execute_result"
    }
   ],
   "source": [
    "testcompartment[:,2] #number of molecules of product produced overall"
   ]
  },
  {
   "cell_type": "code",
   "execution_count": 117,
   "id": "fa79c61a-2f43-4dcc-9068-684b691e06ed",
   "metadata": {},
   "outputs": [
    {
     "data": {
      "text/plain": [
       "array([0.        , 0.01851659, 0.01851659, 0.01851659, 0.01851659,\n",
       "       0.01851659, 0.01851659, 0.01851659, 0.01851659, 0.01851659,\n",
       "       0.01851659, 0.01851659, 0.01851659, 0.01851659, 0.01851659,\n",
       "       0.01851659, 0.01851659, 0.01851659, 0.01851659, 0.01851659,\n",
       "       0.01851659, 0.01851659, 0.01851659, 0.01851659, 0.01851659,\n",
       "       0.01851659, 0.01851659, 0.01851659, 0.01851659, 0.01851659,\n",
       "       0.01851659, 0.01851659, 0.01851659, 0.01851659, 0.01851659,\n",
       "       0.01851659, 0.01851659, 0.01851659, 0.01851659, 0.01851659,\n",
       "       0.01851659, 0.01851659, 0.01851659, 0.01851659, 0.01851659,\n",
       "       0.01851659, 0.01851659, 0.01851659, 0.01851659, 0.01851659,\n",
       "       0.01851659, 0.01851659, 0.01851659, 0.01851659, 0.01851659,\n",
       "       0.01851659, 0.01851659, 0.01851659, 0.01851659, 0.01851659,\n",
       "       0.01851659, 0.01851659, 0.01851659, 0.01851659, 0.01851659,\n",
       "       0.01851659, 0.01851659, 0.01851659, 0.01851659, 0.01851659,\n",
       "       0.01851659, 0.01851659, 0.01851659, 0.01851659, 0.01851659,\n",
       "       0.01851659, 0.01851659, 0.01851659, 0.01851659, 0.01851659,\n",
       "       0.01851659, 0.01851659, 0.01851659, 0.01851659, 0.01851659,\n",
       "       0.01851659, 0.01851659, 0.01851659, 0.01851659, 0.01851659,\n",
       "       0.01851659, 0.01851659, 0.01851659, 0.01851659, 0.01851659,\n",
       "       0.01851659, 0.01851659, 0.01851659, 0.01851659, 0.01851659])"
      ]
     },
     "execution_count": 117,
     "metadata": {},
     "output_type": "execute_result"
    }
   ],
   "source": [
    "testcompartment[:,3] # number of molecules of inhibitor in the reaction mixture - seems off"
   ]
  },
  {
   "cell_type": "code",
   "execution_count": 119,
   "id": "4ccc4a23-98ca-45a1-9438-aa46217e6b6a",
   "metadata": {},
   "outputs": [
    {
     "data": {
      "text/plain": [
       "11.258084757349886"
      ]
     },
     "execution_count": 119,
     "metadata": {},
     "output_type": "execute_result"
    }
   ],
   "source": [
    "scipy.stats.linregress(timepoints,testcompartment[:,2]).slope"
   ]
  },
  {
   "cell_type": "code",
   "execution_count": null,
   "id": "08b7d4f7-992c-467a-9112-f3c851c23f52",
   "metadata": {},
   "outputs": [],
   "source": [
    "### Seems to capture the initial rate for the product formation, but the inhibitor is still a meaningless number at the moment. Also this uses kinetic parameters for the wild-type enzyme.\n",
    "### The comparison graph shown in the results uses the negative mutant."
   ]
  },
  {
   "cell_type": "code",
   "execution_count": 107,
   "id": "157819ac-9cad-47f4-990a-ee09196edb53",
   "metadata": {},
   "outputs": [],
   "source": [
    "timepoints = np.linspace(0,5,100,dtype='f')\n",
    "\n",
    "nA = 6.022*10**23\n",
    "\n",
    "\n",
    "Fv = 1*10**-7\n",
    "kcat = 11.66  \n",
    "Km  = 7.14*10**-7 * nA\n",
    "Ki = 1.74 *10**-6 * nA\n",
    "k1 = 1.02*10**4\n",
    "k2 = 6.08*10**2\n",
    "\n",
    "Sb0 = 20*10**-6 *nA\n",
    "Sc0 = 0.0\n",
    "Pc0 = 0.0\n",
    "Ic0 = 0.0"
   ]
  },
  {
   "cell_type": "code",
   "execution_count": 109,
   "id": "62112110-fbcb-47a0-9c7e-e93cecf558ad",
   "metadata": {},
   "outputs": [],
   "source": [
    "y0 = [Sb0,Sc0,Pc0,Ic0]\n",
    "\n",
    "def nanoreactor_nov(y,t):\n",
    "    Sb,Sc,Pc,Ic = y\n",
    "    dpdt = (kcat*Sc)/(Km + Sc + ((Km*Ic)/Ki))\n",
    "    dsdt = -(dpdt) + (k1*Sb - k1*Sc)\n",
    "    didt = (dpdt) - (k2*Ic)\n",
    "    dydt = [0,dsdt,dpdt,didt]\n",
    "    return dydt"
   ]
  },
  {
   "cell_type": "code",
   "execution_count": 110,
   "id": "31e1b351-7f51-4eb3-b1c9-53486bf8d581",
   "metadata": {},
   "outputs": [],
   "source": [
    "testcompartment = scipy.integrate.odeint(nanoreactor_nov,y0,timepoints)"
   ]
  },
  {
   "cell_type": "code",
   "execution_count": 111,
   "id": "5aeeef2a-0005-4afb-b7ac-6e7d5da660b7",
   "metadata": {
    "tags": []
   },
   "outputs": [
    {
     "data": {
      "text/plain": [
       "<matplotlib.legend.Legend at 0x7f32224b0370>"
      ]
     },
     "execution_count": 111,
     "metadata": {},
     "output_type": "execute_result"
    },
    {
     "data": {
      "image/png": "[encoded data removed]",
      "text/plain": [
       "<Figure size 432x288 with 1 Axes>"
      ]
     },
     "metadata": {
      "needs_background": "light"
     },
     "output_type": "display_data"
    }
   ],
   "source": [
    "fig,ax = plt.subplots()\n",
    "\n",
    "ax.plot(timepoints,testcompartment,label = ['Sb','Sc','Pc','Ic'])\n",
    "ax.legend()"
   ]
  },
  {
   "cell_type": "code",
   "execution_count": 112,
   "id": "6402968f-0a5c-4734-8a86-9dac76e435dd",
   "metadata": {},
   "outputs": [
    {
     "data": {
      "text/plain": [
       "array([1.2044e+19, 1.2044e+19, 1.2044e+19, 1.2044e+19, 1.2044e+19,\n",
       "       1.2044e+19, 1.2044e+19, 1.2044e+19, 1.2044e+19, 1.2044e+19,\n",
       "       1.2044e+19, 1.2044e+19, 1.2044e+19, 1.2044e+19, 1.2044e+19,\n",
       "       1.2044e+19, 1.2044e+19, 1.2044e+19, 1.2044e+19, 1.2044e+19,\n",
       "       1.2044e+19, 1.2044e+19, 1.2044e+19, 1.2044e+19, 1.2044e+19,\n",
       "       1.2044e+19, 1.2044e+19, 1.2044e+19, 1.2044e+19, 1.2044e+19,\n",
       "       1.2044e+19, 1.2044e+19, 1.2044e+19, 1.2044e+19, 1.2044e+19,\n",
       "       1.2044e+19, 1.2044e+19, 1.2044e+19, 1.2044e+19, 1.2044e+19,\n",
       "       1.2044e+19, 1.2044e+19, 1.2044e+19, 1.2044e+19, 1.2044e+19,\n",
       "       1.2044e+19, 1.2044e+19, 1.2044e+19, 1.2044e+19, 1.2044e+19,\n",
       "       1.2044e+19, 1.2044e+19, 1.2044e+19, 1.2044e+19, 1.2044e+19,\n",
       "       1.2044e+19, 1.2044e+19, 1.2044e+19, 1.2044e+19, 1.2044e+19,\n",
       "       1.2044e+19, 1.2044e+19, 1.2044e+19, 1.2044e+19, 1.2044e+19,\n",
       "       1.2044e+19, 1.2044e+19, 1.2044e+19, 1.2044e+19, 1.2044e+19,\n",
       "       1.2044e+19, 1.2044e+19, 1.2044e+19, 1.2044e+19, 1.2044e+19,\n",
       "       1.2044e+19, 1.2044e+19, 1.2044e+19, 1.2044e+19, 1.2044e+19,\n",
       "       1.2044e+19, 1.2044e+19, 1.2044e+19, 1.2044e+19, 1.2044e+19,\n",
       "       1.2044e+19, 1.2044e+19, 1.2044e+19, 1.2044e+19, 1.2044e+19,\n",
       "       1.2044e+19, 1.2044e+19, 1.2044e+19, 1.2044e+19, 1.2044e+19,\n",
       "       1.2044e+19, 1.2044e+19, 1.2044e+19, 1.2044e+19, 1.2044e+19])"
      ]
     },
     "execution_count": 112,
     "metadata": {},
     "output_type": "execute_result"
    }
   ],
   "source": [
    "testcompartment[:,0] #Substrate in bulk is at 20 uM"
   ]
  },
  {
   "cell_type": "code",
   "execution_count": 113,
   "id": "853db0ec-0ed8-40fc-b581-1cef79f65564",
   "metadata": {},
   "outputs": [
    {
     "data": {
      "text/plain": [
       "array([0.0000e+00, 1.2044e+19, 1.2044e+19, 1.2044e+19, 1.2044e+19,\n",
       "       1.2044e+19, 1.2044e+19, 1.2044e+19, 1.2044e+19, 1.2044e+19,\n",
       "       1.2044e+19, 1.2044e+19, 1.2044e+19, 1.2044e+19, 1.2044e+19,\n",
       "       1.2044e+19, 1.2044e+19, 1.2044e+19, 1.2044e+19, 1.2044e+19,\n",
       "       1.2044e+19, 1.2044e+19, 1.2044e+19, 1.2044e+19, 1.2044e+19,\n",
       "       1.2044e+19, 1.2044e+19, 1.2044e+19, 1.2044e+19, 1.2044e+19,\n",
       "       1.2044e+19, 1.2044e+19, 1.2044e+19, 1.2044e+19, 1.2044e+19,\n",
       "       1.2044e+19, 1.2044e+19, 1.2044e+19, 1.2044e+19, 1.2044e+19,\n",
       "       1.2044e+19, 1.2044e+19, 1.2044e+19, 1.2044e+19, 1.2044e+19,\n",
       "       1.2044e+19, 1.2044e+19, 1.2044e+19, 1.2044e+19, 1.2044e+19,\n",
       "       1.2044e+19, 1.2044e+19, 1.2044e+19, 1.2044e+19, 1.2044e+19,\n",
       "       1.2044e+19, 1.2044e+19, 1.2044e+19, 1.2044e+19, 1.2044e+19,\n",
       "       1.2044e+19, 1.2044e+19, 1.2044e+19, 1.2044e+19, 1.2044e+19,\n",
       "       1.2044e+19, 1.2044e+19, 1.2044e+19, 1.2044e+19, 1.2044e+19,\n",
       "       1.2044e+19, 1.2044e+19, 1.2044e+19, 1.2044e+19, 1.2044e+19,\n",
       "       1.2044e+19, 1.2044e+19, 1.2044e+19, 1.2044e+19, 1.2044e+19,\n",
       "       1.2044e+19, 1.2044e+19, 1.2044e+19, 1.2044e+19, 1.2044e+19,\n",
       "       1.2044e+19, 1.2044e+19, 1.2044e+19, 1.2044e+19, 1.2044e+19,\n",
       "       1.2044e+19, 1.2044e+19, 1.2044e+19, 1.2044e+19, 1.2044e+19,\n",
       "       1.2044e+19, 1.2044e+19, 1.2044e+19, 1.2044e+19, 1.2044e+19])"
      ]
     },
     "execution_count": 113,
     "metadata": {},
     "output_type": "execute_result"
    }
   ],
   "source": [
    "testcompartment[:,1] #Substrate in compartment is at 20 uM"
   ]
  },
  {
   "cell_type": "code",
   "execution_count": 114,
   "id": "71da2f64-0e2a-4942-a09f-774400aa5a85",
   "metadata": {},
   "outputs": [
    {
     "data": {
      "text/plain": [
       "array([ 0.        ,  0.56845749,  1.1370477 ,  1.70563799,  2.27422811,\n",
       "        2.84281823,  3.41140869,  3.97999882,  4.54858894,  5.1171794 ,\n",
       "        5.68576918,  6.25435998,  6.8229501 ,  7.39154023,  7.96013035,\n",
       "        8.52872047,  9.0973106 ,  9.66590072, 10.23449151, 10.80308164,\n",
       "       11.37167109, 11.94026121, 12.50885268, 13.0774428 , 13.64603292,\n",
       "       14.21462305, 14.78321317, 15.35180329, 15.92039342, 16.48898354,\n",
       "       17.05757366, 17.62616379, 18.19475391, 18.76334403, 19.33193415,\n",
       "       19.90052428, 20.46911574, 21.03770587, 21.60629599, 22.17488611,\n",
       "       22.74347489, 23.31206636, 23.88065514, 24.44924661, 25.01783807,\n",
       "       25.58642685, 26.15501832, 26.7236071 , 27.29219856, 27.86078735,\n",
       "       28.42937881, 28.99796759, 29.56655906, 30.13514784, 30.7037393 ,\n",
       "       31.27232808, 31.84091955, 32.40951101, 32.9780998 , 33.54669126,\n",
       "       34.11528004, 34.68387151, 35.25246029, 35.82105175, 36.38964054,\n",
       "       36.958232  , 37.52682078, 38.09541225, 38.66400103, 39.23259249,\n",
       "       39.80118127, 40.36977274, 40.93836421, 41.50695299, 42.07554445,\n",
       "       42.64413323, 43.2127247 , 43.78131348, 44.34990494, 44.91849373,\n",
       "       45.48708251, 46.05567397, 46.62426544, 47.1928569 , 47.761443  ,\n",
       "       48.33003446, 48.89862593, 49.4672174 , 50.03580886, 50.60439496,\n",
       "       51.17298642, 51.74157789, 52.31016935, 52.87875545, 53.44734692,\n",
       "       54.01593838, 54.58452985, 55.15311594, 55.72170741, 56.29029887])"
      ]
     },
     "execution_count": 114,
     "metadata": {},
     "output_type": "execute_result"
    }
   ],
   "source": [
    "testcompartment[:,2] #number of molecules of product produced overall"
   ]
  },
  {
   "cell_type": "code",
   "execution_count": 117,
   "id": "faa2e4a4-34fc-464c-8e50-68d2e4e84b1e",
   "metadata": {},
   "outputs": [
    {
     "data": {
      "text/plain": [
       "array([0.        , 0.01851659, 0.01851659, 0.01851659, 0.01851659,\n",
       "       0.01851659, 0.01851659, 0.01851659, 0.01851659, 0.01851659,\n",
       "       0.01851659, 0.01851659, 0.01851659, 0.01851659, 0.01851659,\n",
       "       0.01851659, 0.01851659, 0.01851659, 0.01851659, 0.01851659,\n",
       "       0.01851659, 0.01851659, 0.01851659, 0.01851659, 0.01851659,\n",
       "       0.01851659, 0.01851659, 0.01851659, 0.01851659, 0.01851659,\n",
       "       0.01851659, 0.01851659, 0.01851659, 0.01851659, 0.01851659,\n",
       "       0.01851659, 0.01851659, 0.01851659, 0.01851659, 0.01851659,\n",
       "       0.01851659, 0.01851659, 0.01851659, 0.01851659, 0.01851659,\n",
       "       0.01851659, 0.01851659, 0.01851659, 0.01851659, 0.01851659,\n",
       "       0.01851659, 0.01851659, 0.01851659, 0.01851659, 0.01851659,\n",
       "       0.01851659, 0.01851659, 0.01851659, 0.01851659, 0.01851659,\n",
       "       0.01851659, 0.01851659, 0.01851659, 0.01851659, 0.01851659,\n",
       "       0.01851659, 0.01851659, 0.01851659, 0.01851659, 0.01851659,\n",
       "       0.01851659, 0.01851659, 0.01851659, 0.01851659, 0.01851659,\n",
       "       0.01851659, 0.01851659, 0.01851659, 0.01851659, 0.01851659,\n",
       "       0.01851659, 0.01851659, 0.01851659, 0.01851659, 0.01851659,\n",
       "       0.01851659, 0.01851659, 0.01851659, 0.01851659, 0.01851659,\n",
       "       0.01851659, 0.01851659, 0.01851659, 0.01851659, 0.01851659,\n",
       "       0.01851659, 0.01851659, 0.01851659, 0.01851659, 0.01851659])"
      ]
     },
     "execution_count": 117,
     "metadata": {},
     "output_type": "execute_result"
    }
   ],
   "source": [
    "testcompartment[:,3] # number of molecules of inhibitor in the reaction mixture - seems off"
   ]
  },
  {
   "cell_type": "code",
   "execution_count": 119,
   "id": "c41d2ac6-c90e-4ab7-884f-2ed55bc5192a",
   "metadata": {},
   "outputs": [
    {
     "data": {
      "text/plain": [
       "11.258084757349886"
      ]
     },
     "execution_count": 119,
     "metadata": {},
     "output_type": "execute_result"
    }
   ],
   "source": [
    "scipy.stats.linregress(timepoints,testcompartment[:,2]).slope "
   ]
  },
  {
   "cell_type": "code",
   "execution_count": null,
   "id": "ffc2214d-79b7-424c-81a4-c72068f11e6f",
   "metadata": {},
   "outputs": [],
   "source": [
    "### Ran into some confusion again, regrouped, and re-read the paper.\n",
    "\n",
    "### The fitted diffusivity parameters are for the variant cage relative to the regular cage. In the experiments displayed in Figure 5, the mutant variant of the enzyme with a higher Ki was used.\n",
    "### I think first things first is to reproduce the regular encapsulated enzyme, which does not involve any diffusivity parameters."
   ]
  },
  {
   "cell_type": "code",
   "execution_count": 142,
   "id": "f1071042-a8a7-4066-b8e2-1ef549d3d3c6",
   "metadata": {},
   "outputs": [],
   "source": [
    "timepoints = np.linspace(0,5,100,dtype='f')\n",
    "\n",
    "nA = 6.022*10**23\n",
    "\n",
    "\n",
    "Fv = 1*10**-7\n",
    "kcat = 31.4  \n",
    "Km  = 2.45*10**-6 * nA\n",
    "Ki = 1.74 *10**-6 * nA\n",
    "k1 = 1.02*10**4\n",
    "k2 = 6.08*10**2\n",
    "Kmapp = 2.45*10**-6\n",
    "\n",
    "Sb0 = 30*10**-6 *nA\n",
    "Sc0 = 0.0\n",
    "Pc0 = 0.0\n",
    "Ic0 = 0.0"
   ]
  },
  {
   "cell_type": "code",
   "execution_count": 143,
   "id": "2859ca8f-4bdd-4b52-b03e-20a9bef30e3b",
   "metadata": {},
   "outputs": [],
   "source": [
    "S0 = Sb0\n",
    "P0 = Pc0\n",
    "I0 = Ic0\n",
    "\n",
    "y0 = [S0,P0,I0]\n",
    "\n",
    "def nanoreactor_wt_inhibition(y,t):\n",
    "    S,P,I = y\n",
    "    dpdt = (kcat*S)/(Km + S + ((Km*I)/Ki))\n",
    "    dsdt = -(dpdt)\n",
    "    didt = (dpdt)\n",
    "    dydt = [dsdt,dpdt,didt]\n",
    "    return dydt"
   ]
  },
  {
   "cell_type": "code",
   "execution_count": 144,
   "id": "4fed84d3-f98f-4033-8787-f58db38b9e1e",
   "metadata": {},
   "outputs": [],
   "source": [
    "S0 = Sb0\n",
    "P0 = Pc0\n",
    "I0 = Ic0\n",
    "\n",
    "y0 = [S0,P0]\n",
    "\n",
    "def nanoreactor_wt_kmapp(y,t):\n",
    "    S,P = y\n",
    "    dpdt = (kcat*S)/(Kmapp + S)\n",
    "    dsdt = -(dpdt)\n",
    "\n",
    "    dydt = [dsdt,dpdt]\n",
    "    return dydt"
   ]
  },
  {
   "cell_type": "code",
   "execution_count": 145,
   "id": "5402eb68-8e18-4b35-9cfd-17d75ef8004c",
   "metadata": {},
   "outputs": [],
   "source": [
    "testcompartment = scipy.integrate.odeint(nanoreactor_wt_kmapp,y0,timepoints)"
   ]
  },
  {
   "cell_type": "code",
   "execution_count": 146,
   "id": "e797903d-1ac2-4f61-90d1-902ab5d3a345",
   "metadata": {
    "tags": []
   },
   "outputs": [
    {
     "data": {
      "text/plain": [
       "<matplotlib.legend.Legend at 0x7f32216fadf0>"
      ]
     },
     "execution_count": 146,
     "metadata": {},
     "output_type": "execute_result"
    },
    {
     "data": {
      "image/png": "[encoded data removed]",
      "text/plain": [
       "<Figure size 432x288 with 1 Axes>"
      ]
     },
     "metadata": {
      "needs_background": "light"
     },
     "output_type": "display_data"
    }
   ],
   "source": [
    "fig,ax = plt.subplots()\n",
    "\n",
    "ax.plot(timepoints,testcompartment,label = ['S','P'])\n",
    "ax.legend()"
   ]
  },
  {
   "cell_type": "code",
   "execution_count": 147,
   "id": "22ffcb9e-f357-401b-898e-3f2864a4048a",
   "metadata": {},
   "outputs": [
    {
     "data": {
      "text/plain": [
       "LinregressResult(slope=31.4, intercept=7.3249191103741396e-06, rvalue=1.0, pvalue=0.0, stderr=0.0, intercept_stderr=0.0)"
      ]
     },
     "execution_count": 147,
     "metadata": {},
     "output_type": "execute_result"
    }
   ],
   "source": [
    "scipy.stats.linregress(timepoints,testcompartment[:,1])"
   ]
  },
  {
   "cell_type": "code",
   "execution_count": null,
   "id": "588ea77e-6e52-4ae8-9037-3f6bdb4648fd",
   "metadata": {},
   "outputs": [],
   "source": [
    "### Using the model with KmApp and the KmApp/kcat for the encapsulated PhoA mutant I seem to be capturing the same behaviour as shown in the paper\n",
    "\n",
    "## Have been making strange choices about meaning of KmApp - in the absence of inhibitor (assumed during the experiment) the KmApp = Kmtrue. Inhibitor assumed to be absent due to M-M assumptions\n",
    "## "
   ]
  },
  {
   "cell_type": "code",
   "execution_count": null,
   "id": "8eefcb98-a96d-47ae-aa35-f003057514b1",
   "metadata": {},
   "outputs": [],
   "source": []
  },
  {
   "cell_type": "code",
   "execution_count": 179,
   "id": "cfa8d310-2eb6-4e58-b641-0b990955bc0d",
   "metadata": {},
   "outputs": [],
   "source": [
    "timepoints = np.linspace(0,5,100,dtype='f')\n",
    "\n",
    "nA = 6.022*10**23\n",
    "\n",
    "\n",
    "Fv = 1*10**-7\n",
    "kcat = 31.4  \n",
    "Km  = 2.45*10**-6 * nA\n",
    "Ki = 1.74 *10**-6 * nA\n",
    "k1 = 1.02*10**4\n",
    "k2 = 6.08*10**2\n",
    "Kmapp = 2.45*10**-6\n",
    "\n",
    "Sb0 = 0.5*10**-6 *nA\n",
    "Sc0 = 0.0\n",
    "Pc0 = 0.0\n",
    "Ic0 = 0.0"
   ]
  },
  {
   "cell_type": "code",
   "execution_count": 180,
   "id": "89231c78-5dc8-4761-bd65-57537ca5d253",
   "metadata": {},
   "outputs": [],
   "source": [
    "S0 = Sb0\n",
    "P0 = Pc0\n",
    "I0 = Ic0\n",
    "\n",
    "y0 = [S0,P0,I0]\n",
    "\n",
    "def nanoreactor_wt_inhibition(y,t):\n",
    "    S,P,I = y\n",
    "    dpdt = (kcat*S)/(Km + S + ((Km*I)/Ki))\n",
    "    dsdt = -(dpdt)\n",
    "    didt = (dpdt)\n",
    "    dydt = [dsdt,dpdt,didt]\n",
    "    return dydt"
   ]
  },
  {
   "cell_type": "code",
   "execution_count": 181,
   "id": "bdde4916-a937-404e-9964-3076a675cf6d",
   "metadata": {},
   "outputs": [],
   "source": [
    "testcompartment = scipy.integrate.odeint(nanoreactor_wt_inhibition,y0,timepoints)"
   ]
  },
  {
   "cell_type": "code",
   "execution_count": 182,
   "id": "5f0a4c31-7c02-4d1d-b525-696a3a6be29e",
   "metadata": {
    "tags": []
   },
   "outputs": [
    {
     "data": {
      "text/plain": [
       "<matplotlib.legend.Legend at 0x7f321f0a8dc0>"
      ]
     },
     "execution_count": 182,
     "metadata": {},
     "output_type": "execute_result"
    },
    {
     "data": {
      "image/png": "[encoded data removed]",
      "text/plain": [
       "<Figure size 432x288 with 1 Axes>"
      ]
     },
     "metadata": {
      "needs_background": "light"
     },
     "output_type": "display_data"
    }
   ],
   "source": [
    "fig,ax = plt.subplots()\n",
    "\n",
    "ax.plot(timepoints,testcompartment,label = ['S','P','I'])\n",
    "ax.legend()"
   ]
  },
  {
   "cell_type": "code",
   "execution_count": 183,
   "id": "93382cc4-8035-4e1b-b7c2-593ae6d10046",
   "metadata": {},
   "outputs": [
    {
     "data": {
      "text/plain": [
       "LinregressResult(slope=5.322033898305084, intercept=1.2415117094377592e-06, rvalue=1.0, pvalue=0.0, stderr=0.0, intercept_stderr=0.0)"
      ]
     },
     "execution_count": 183,
     "metadata": {},
     "output_type": "execute_result"
    }
   ],
   "source": [
    "scipy.stats.linregress(timepoints,testcompartment[:,1])"
   ]
  },
  {
   "cell_type": "code",
   "execution_count": 184,
   "id": "0b273806-b779-41f8-8416-f3ea01e1a333",
   "metadata": {},
   "outputs": [],
   "source": [
    "# Constants| nA is avogadros number, Fv volume fraction of capsid, kcat is s^-1, Km is quoted in M and scaled up by nA so units are consitent in model\n",
    "nA = 6.022*10**23\n",
    "Fv = 1*10**-7\n",
    "kcat = 31.4  \n",
    "Km  = 2.45*10**-6 * nA"
   ]
  },
  {
   "cell_type": "code",
   "execution_count": 310,
   "id": "a0c94bee-0b73-424f-a66f-ba90aa9b97f0",
   "metadata": {},
   "outputs": [],
   "source": [
    "k1 = 1.02*10**4\n",
    "k2 = 1.00\n",
    "Ki = 1.74 *10**-6 * nA"
   ]
  },
  {
   "cell_type": "code",
   "execution_count": 185,
   "id": "c76da81b-ef61-4aa8-9db5-9cc250f50d0d",
   "metadata": {},
   "outputs": [],
   "source": [
    "#Time range| units are in s\n",
    "timepoints = np.linspace(0,50,1000,dtype='f')"
   ]
  },
  {
   "cell_type": "code",
   "execution_count": 187,
   "id": "a441970f-220e-4d89-a4a1-30457b6e2eae",
   "metadata": {},
   "outputs": [],
   "source": [
    "#Concentration range| units are in uM initially, scaled to M\n",
    "S0range = np.geomspace(0.1,50,num=8,dtype='f') * 10**-6"
   ]
  },
  {
   "cell_type": "code",
   "execution_count": 260,
   "id": "c2318308-1172-4b4f-8ad2-d03c931ea6ee",
   "metadata": {},
   "outputs": [],
   "source": [
    "resultsdict = {}"
   ]
  },
  {
   "cell_type": "code",
   "execution_count": 261,
   "id": "e49f41b2-d1a4-432e-a25a-a0509437f4dc",
   "metadata": {},
   "outputs": [],
   "source": [
    "for concentration in S0range:\n",
    "    \n",
    "    S0 = concentration * nA\n",
    "    P0 = Pc0\n",
    "    y0 = [S0,P0]\n",
    "    \n",
    "    def nanoreactor_wt_kmapp(y,t):\n",
    "        S,P = y\n",
    "        dpdt = (kcat*S)/(Km + S)\n",
    "        dsdt = -(dpdt)\n",
    "\n",
    "        dydt = [dsdt,dpdt]\n",
    "        return dydt\n",
    "    \n",
    "    conctitle = round(concentration*10**6,2)\n",
    "    resultsdict[conctitle] = scipy.integrate.odeint(nanoreactor_wt_kmapp,y0,timepoints)"
   ]
  },
  {
   "cell_type": "code",
   "execution_count": 262,
   "id": "b7b14765-7706-4180-9708-d469f160db0f",
   "metadata": {},
   "outputs": [],
   "source": [
    "wt_kmapp_timecourse = resultsdict"
   ]
  },
  {
   "cell_type": "code",
   "execution_count": 263,
   "id": "483fd814-a704-40b1-abf6-30897200b5ff",
   "metadata": {},
   "outputs": [],
   "source": [
    "wt_kmapp_slopes = {}"
   ]
  },
  {
   "cell_type": "code",
   "execution_count": 264,
   "id": "f1fd6c8b-ff64-4cf2-aeea-95e41627794f",
   "metadata": {},
   "outputs": [],
   "source": [
    "for key,value in wt_kmapp_timecourse.items():\n",
    "    wt_kmapp_slopes[key] = scipy.stats.linregress(timepoints,value[:,1]).slope"
   ]
  },
  {
   "cell_type": "code",
   "execution_count": 265,
   "id": "3d8963bf-08bb-4a91-a051-9853dd9bad27",
   "metadata": {},
   "outputs": [
    {
     "data": {
      "text/plain": [
       "{0.1: 1.231372562845235,\n",
       " 0.24: 2.833113435850947,\n",
       " 0.59: 6.097271691239206,\n",
       " 1.43: 11.595663610721619,\n",
       " 3.49: 18.439063624079854,\n",
       " 8.47: 24.354527626195747,\n",
       " 20.58: 28.059282201946797,\n",
       " 50.0: 29.93326974542162}"
      ]
     },
     "execution_count": 265,
     "metadata": {},
     "output_type": "execute_result"
    }
   ],
   "source": [
    "wt_kmapp_slopes"
   ]
  },
  {
   "cell_type": "code",
   "execution_count": 316,
   "id": "428e0eb2-5130-4081-8488-4a99fd3f4417",
   "metadata": {},
   "outputs": [],
   "source": [
    "resultsdict = {}"
   ]
  },
  {
   "cell_type": "code",
   "execution_count": 317,
   "id": "1868f561-dde5-4533-b652-129934431414",
   "metadata": {},
   "outputs": [],
   "source": [
    "for concentration in S0range:\n",
    "    \n",
    "    S0 = concentration * nA\n",
    "    P0 = Pc0\n",
    "    I0 = Ic0\n",
    "    y0 = [S0,P0,I0]\n",
    "    \n",
    "    def nanoreactor_wt_inhibition(y,t):\n",
    "        S,P,I = y\n",
    "        dpdt = (kcat*S)/(Km + S + ((Km*I)/Ki))\n",
    "        dsdt = -(dpdt)\n",
    "        didt = (dpdt)\n",
    "        dydt = [dsdt,dpdt,didt]\n",
    "        return dydt\n",
    "    \n",
    "    conctitle = round(concentration*10**6,2)\n",
    "    resultsdict[conctitle] = scipy.integrate.odeint(nanoreactor_wt_inhibition,y0,timepoints)"
   ]
  },
  {
   "cell_type": "code",
   "execution_count": 318,
   "id": "e1ba9ef2-1f21-48fb-a1d5-87b68d0a7b85",
   "metadata": {},
   "outputs": [],
   "source": [
    "wt_inhibition_timecourse = resultsdict\n",
    "wt_inhibition_slopes = {}\n",
    "for key,value in wt_inhibition_timecourse.items():\n",
    "    wt_inhibition_slopes[key] = scipy.stats.linregress(timepoints,value[:,1]).slope"
   ]
  },
  {
   "cell_type": "code",
   "execution_count": 319,
   "id": "25b404d3-150d-48a7-9268-0127b38d957a",
   "metadata": {},
   "outputs": [
    {
     "data": {
      "text/plain": [
       "{0.1: 1.2313725628452346,\n",
       " 0.24: 2.833113435850946,\n",
       " 0.59: 6.0972716912392,\n",
       " 1.43: 11.59566361072161,\n",
       " 3.49: 18.43906362407985,\n",
       " 8.47: 24.354527626195736,\n",
       " 20.58: 28.059282201946797,\n",
       " 50.0: 29.93326974542162}"
      ]
     },
     "execution_count": 319,
     "metadata": {},
     "output_type": "execute_result"
    }
   ],
   "source": [
    "wt_inhibition_slopes ##basically unchanged from above using KmApp - makes sense as according to this model product does not substantially accumulate inhibiting the reaction, so everything looking ok so far"
   ]
  },
  {
   "cell_type": "code",
   "execution_count": 323,
   "id": "44d0ec44-82c2-447e-ab7c-4b201a6b3f71",
   "metadata": {},
   "outputs": [],
   "source": [
    "# wt_inhibition_timecourse[50.0][:,1]"
   ]
  },
  {
   "cell_type": "code",
   "execution_count": 489,
   "id": "ca5518eb-ee3a-4046-bb25-479052e202df",
   "metadata": {},
   "outputs": [],
   "source": [
    "k1 = 1.02*10**6\n",
    "k2 = 6.08*10**2"
   ]
  },
  {
   "cell_type": "code",
   "execution_count": 493,
   "id": "564cf020-9668-4270-a320-c09725ca42d9",
   "metadata": {},
   "outputs": [],
   "source": [
    "resultsdict = {}"
   ]
  },
  {
   "cell_type": "code",
   "execution_count": 496,
   "id": "3e7b7516-751c-44dc-858c-34afa70cf3af",
   "metadata": {},
   "outputs": [
    {
     "ename": "TypeError",
     "evalue": "can't convert expression to float",
     "output_type": "error",
     "traceback": [
      "\u001b[0;31m---------------------------------------------------------------------------\u001b[0m",
      "\u001b[0;31mTypeError\u001b[0m                                 Traceback (most recent call last)",
      "Input \u001b[0;32mIn [496]\u001b[0m, in \u001b[0;36m<cell line: 1>\u001b[0;34m()\u001b[0m\n\u001b[1;32m     19\u001b[0m     \u001b[38;5;28;01mreturn\u001b[39;00m dydt\n\u001b[1;32m     21\u001b[0m conctitle \u001b[38;5;241m=\u001b[39m \u001b[38;5;28mround\u001b[39m(concentration\u001b[38;5;241m*\u001b[39m\u001b[38;5;241m10\u001b[39m\u001b[38;5;241m*\u001b[39m\u001b[38;5;241m*\u001b[39m\u001b[38;5;241m6\u001b[39m,\u001b[38;5;241m2\u001b[39m)\n\u001b[0;32m---> 22\u001b[0m resultsdict[conctitle] \u001b[38;5;241m=\u001b[39m \u001b[43mscipy\u001b[49m\u001b[38;5;241;43m.\u001b[39;49m\u001b[43mintegrate\u001b[49m\u001b[38;5;241;43m.\u001b[39;49m\u001b[43modeint\u001b[49m\u001b[43m(\u001b[49m\u001b[43mnanoreactor_wt_inhibition\u001b[49m\u001b[43m,\u001b[49m\u001b[43my0\u001b[49m\u001b[43m,\u001b[49m\u001b[43mtimepoints\u001b[49m\u001b[43m)\u001b[49m\n",
      "File \u001b[0;32m~/miniconda3/lib/python3.9/site-packages/scipy/integrate/odepack.py:241\u001b[0m, in \u001b[0;36modeint\u001b[0;34m(func, y0, t, args, Dfun, col_deriv, full_output, ml, mu, rtol, atol, tcrit, h0, hmax, hmin, ixpr, mxstep, mxhnil, mxordn, mxords, printmessg, tfirst)\u001b[0m\n\u001b[1;32m    239\u001b[0m t \u001b[38;5;241m=\u001b[39m copy(t)\n\u001b[1;32m    240\u001b[0m y0 \u001b[38;5;241m=\u001b[39m copy(y0)\n\u001b[0;32m--> 241\u001b[0m output \u001b[38;5;241m=\u001b[39m \u001b[43m_odepack\u001b[49m\u001b[38;5;241;43m.\u001b[39;49m\u001b[43modeint\u001b[49m\u001b[43m(\u001b[49m\u001b[43mfunc\u001b[49m\u001b[43m,\u001b[49m\u001b[43m \u001b[49m\u001b[43my0\u001b[49m\u001b[43m,\u001b[49m\u001b[43m \u001b[49m\u001b[43mt\u001b[49m\u001b[43m,\u001b[49m\u001b[43m \u001b[49m\u001b[43margs\u001b[49m\u001b[43m,\u001b[49m\u001b[43m \u001b[49m\u001b[43mDfun\u001b[49m\u001b[43m,\u001b[49m\u001b[43m \u001b[49m\u001b[43mcol_deriv\u001b[49m\u001b[43m,\u001b[49m\u001b[43m \u001b[49m\u001b[43mml\u001b[49m\u001b[43m,\u001b[49m\u001b[43m \u001b[49m\u001b[43mmu\u001b[49m\u001b[43m,\u001b[49m\n\u001b[1;32m    242\u001b[0m \u001b[43m                         \u001b[49m\u001b[43mfull_output\u001b[49m\u001b[43m,\u001b[49m\u001b[43m \u001b[49m\u001b[43mrtol\u001b[49m\u001b[43m,\u001b[49m\u001b[43m \u001b[49m\u001b[43matol\u001b[49m\u001b[43m,\u001b[49m\u001b[43m \u001b[49m\u001b[43mtcrit\u001b[49m\u001b[43m,\u001b[49m\u001b[43m \u001b[49m\u001b[43mh0\u001b[49m\u001b[43m,\u001b[49m\u001b[43m \u001b[49m\u001b[43mhmax\u001b[49m\u001b[43m,\u001b[49m\u001b[43m \u001b[49m\u001b[43mhmin\u001b[49m\u001b[43m,\u001b[49m\n\u001b[1;32m    243\u001b[0m \u001b[43m                         \u001b[49m\u001b[43mixpr\u001b[49m\u001b[43m,\u001b[49m\u001b[43m \u001b[49m\u001b[43mmxstep\u001b[49m\u001b[43m,\u001b[49m\u001b[43m \u001b[49m\u001b[43mmxhnil\u001b[49m\u001b[43m,\u001b[49m\u001b[43m \u001b[49m\u001b[43mmxordn\u001b[49m\u001b[43m,\u001b[49m\u001b[43m \u001b[49m\u001b[43mmxords\u001b[49m\u001b[43m,\u001b[49m\n\u001b[1;32m    244\u001b[0m \u001b[43m                         \u001b[49m\u001b[38;5;28;43mint\u001b[39;49m\u001b[43m(\u001b[49m\u001b[38;5;28;43mbool\u001b[39;49m\u001b[43m(\u001b[49m\u001b[43mtfirst\u001b[49m\u001b[43m)\u001b[49m\u001b[43m)\u001b[49m\u001b[43m)\u001b[49m\n\u001b[1;32m    245\u001b[0m \u001b[38;5;28;01mif\u001b[39;00m output[\u001b[38;5;241m-\u001b[39m\u001b[38;5;241m1\u001b[39m] \u001b[38;5;241m<\u001b[39m \u001b[38;5;241m0\u001b[39m:\n\u001b[1;32m    246\u001b[0m     warning_msg \u001b[38;5;241m=\u001b[39m _msgs[output[\u001b[38;5;241m-\u001b[39m\u001b[38;5;241m1\u001b[39m]] \u001b[38;5;241m+\u001b[39m \u001b[38;5;124m\"\u001b[39m\u001b[38;5;124m Run with full_output = 1 to get quantitative information.\u001b[39m\u001b[38;5;124m\"\u001b[39m\n",
      "File \u001b[0;32m~/miniconda3/lib/python3.9/site-packages/sympy/core/expr.py:359\u001b[0m, in \u001b[0;36mExpr.__float__\u001b[0;34m(self)\u001b[0m\n\u001b[1;32m    357\u001b[0m \u001b[38;5;28;01mif\u001b[39;00m result\u001b[38;5;241m.\u001b[39mis_number \u001b[38;5;129;01mand\u001b[39;00m result\u001b[38;5;241m.\u001b[39mas_real_imag()[\u001b[38;5;241m1\u001b[39m]:\n\u001b[1;32m    358\u001b[0m     \u001b[38;5;28;01mraise\u001b[39;00m \u001b[38;5;167;01mTypeError\u001b[39;00m(\u001b[38;5;124m\"\u001b[39m\u001b[38;5;124mcan\u001b[39m\u001b[38;5;124m'\u001b[39m\u001b[38;5;124mt convert complex to float\u001b[39m\u001b[38;5;124m\"\u001b[39m)\n\u001b[0;32m--> 359\u001b[0m \u001b[38;5;28;01mraise\u001b[39;00m \u001b[38;5;167;01mTypeError\u001b[39;00m(\u001b[38;5;124m\"\u001b[39m\u001b[38;5;124mcan\u001b[39m\u001b[38;5;124m'\u001b[39m\u001b[38;5;124mt convert expression to float\u001b[39m\u001b[38;5;124m\"\u001b[39m)\n",
      "\u001b[0;31mTypeError\u001b[0m: can't convert expression to float"
     ]
    }
   ],
   "source": [
    "##(6/11/23) This is where I confused myself again, gave up, and focused on finishing more experiments.\n",
    "\n",
    "for concentration in S0range:\n",
    "    \n",
    "    S0 = concentration * nA\n",
    "    Sc0 = Sc0\n",
    "    P0 = Pc0\n",
    "    I0 = Ic0\n",
    "    \n",
    "    y0 = [S0,Sc0,P0,I0]\n",
    "    \n",
    "    def nanoreactor_wt_inhibition(y,t):\n",
    "        S,Sc,P,I = y\n",
    "        dsdt = 0\n",
    "        dscdt = - (1/Fv)*(kcat*Sc)/(Km + Sc + ((Km*I)/Ki)) + (k1*S - k1*Sc)\n",
    "        dpdt = (kcat*Sc)/(Km + Sc + ((Km*I)/Ki))\n",
    "        didt = (1/Fv)*(kcat*Sc)/(Km + Sc + ((Km*I)/Ki)) - (k2*I)\n",
    "       \n",
    "        \n",
    "        dydt = [dsdt,dscdt,dpdt,didt]\n",
    "        return dydt\n",
    "    \n",
    "    conctitle = round(concentration*10**6,2)\n",
    "    resultsdict[conctitle] = scipy.integrate.odeint(nanoreactor_wt_inhibition,y0,timepoints)"
   ]
  },
  {
   "cell_type": "code",
   "execution_count": null,
   "id": "64cff7aa-9aad-4d03-a077-8d180608d155",
   "metadata": {},
   "outputs": [],
   "source": [
    "wt_transport_timecourse = resultsdict\n",
    "wt_transport_slopes = {}\n",
    "for key,value in wt_transport_timecourse.items():\n",
    "    wt_transport_slopes[key] = scipy.stats.linregress(timepoints,value[:,2]).slope"
   ]
  },
  {
   "cell_type": "code",
   "execution_count": 492,
   "id": "fea3adab-4bb9-4942-be04-398a58bbbbd0",
   "metadata": {},
   "outputs": [
    {
     "data": {
      "text/plain": [
       "{0.1: 1.2313725486746643,\n",
       " 0.24: 2.8331134041345756,\n",
       " 0.59: 6.097271627099419,\n",
       " 1.43: 11.595663503547032,\n",
       " 3.49: 18.439063489421077,\n",
       " 8.47: 24.354527502571543,\n",
       " 20.58: 28.059282114059247,\n",
       " 50.0: 29.933269692659223}"
      ]
     },
     "execution_count": 492,
     "metadata": {},
     "output_type": "execute_result"
    }
   ],
   "source": [
    "wt_transport_slopes"
   ]
  },
  {
   "cell_type": "code",
   "execution_count": 482,
   "id": "60fe5d9e-03d7-4065-bd17-e0168c4e2e8d",
   "metadata": {},
   "outputs": [
    {
     "data": {
      "text/plain": [
       "array([1.48317958e+10, 1.48467770e+10, 1.48617594e+10, 1.48767407e+10,\n",
       "       1.48917219e+10, 1.49067043e+10, 1.49216856e+10, 1.49366668e+10,\n",
       "       1.49516492e+10, 1.49666305e+10])"
      ]
     },
     "execution_count": 482,
     "metadata": {},
     "output_type": "execute_result"
    }
   ],
   "source": [
    "wt_transport_timecourse[50.0][-10:,2]*(1/Fv)"
   ]
  },
  {
   "cell_type": "code",
   "execution_count": 483,
   "id": "dcaf16c1-c47d-47c4-a2ce-c2e01f37866f",
   "metadata": {
    "tags": []
   },
   "outputs": [],
   "source": [
    "from sympy import *"
   ]
  },
  {
   "cell_type": "code",
   "execution_count": 484,
   "id": "dd7f7302-7c25-4270-ab87-33792dfa0e61",
   "metadata": {
    "jupyter": {
     "source_hidden": true
    },
    "tags": []
   },
   "outputs": [],
   "source": [
    "Fv,kcat,Sc,Km,I,Ki,k1,S,k2 = symbols(\"F_v k_cat S_c K_m I K^i k^1 S k^2\")"
   ]
  },
  {
   "cell_type": "code",
   "execution_count": 486,
   "id": "b9b71df5-1590-4478-a17b-857b1d139cd3",
   "metadata": {
    "collapsed": true,
    "jupyter": {
     "outputs_hidden": true,
     "source_hidden": true
    },
    "tags": []
   },
   "outputs": [
    {
     "data": {
      "text/latex": [
       "$\\displaystyle S k^{1} - S_{c} k^{1} - \\frac{S_{c} k_{cat}}{F_{v} \\left(\\frac{I K_{m}}{K^{i}} + K_{m} + S_{c}\\right)}$"
      ],
      "text/plain": [
       "S*k^1 - S_c*k^1 - S_c*k_cat/(F_v*(I*K_m/K^i + K_m + S_c))"
      ]
     },
     "execution_count": 486,
     "metadata": {},
     "output_type": "execute_result"
    }
   ],
   "source": [
    "- (1/Fv)*(kcat*Sc)/(Km + Sc + ((Km*I)/Ki)) + (k1*S - k1*Sc)"
   ]
  },
  {
   "cell_type": "code",
   "execution_count": 487,
   "id": "449540d9-4bd7-4a6a-91d4-7a6bf004d1f5",
   "metadata": {
    "collapsed": true,
    "jupyter": {
     "outputs_hidden": true,
     "source_hidden": true
    },
    "tags": []
   },
   "outputs": [
    {
     "data": {
      "text/latex": [
       "$\\displaystyle \\frac{S_{c} k_{cat}}{\\frac{I K_{m}}{K^{i}} + K_{m} + S_{c}}$"
      ],
      "text/plain": [
       "S_c*k_cat/(I*K_m/K^i + K_m + S_c)"
      ]
     },
     "execution_count": 487,
     "metadata": {},
     "output_type": "execute_result"
    }
   ],
   "source": [
    "(kcat*Sc)/(Km + Sc + ((Km*I)/Ki))"
   ]
  },
  {
   "cell_type": "code",
   "execution_count": 488,
   "id": "55bfd509-b984-4e9f-90f6-35a8d7e42ed2",
   "metadata": {
    "collapsed": true,
    "jupyter": {
     "outputs_hidden": true,
     "source_hidden": true
    },
    "tags": []
   },
   "outputs": [
    {
     "data": {
      "text/latex": [
       "$\\displaystyle - I k^{2} + \\frac{S_{c} k_{cat}}{F_{v} \\left(\\frac{I K_{m}}{K^{i}} + K_{m} + S_{c}\\right)}$"
      ],
      "text/plain": [
       "-I*k^2 + S_c*k_cat/(F_v*(I*K_m/K^i + K_m + S_c))"
      ]
     },
     "execution_count": 488,
     "metadata": {},
     "output_type": "execute_result"
    }
   ],
   "source": [
    "(1/Fv)*(kcat*Sc)/(Km + Sc + ((Km*I)/Ki)) - (k2*I)"
   ]
  },
  {
   "cell_type": "code",
   "execution_count": null,
   "id": "e33e760a-87de-44ce-9af5-44f96320a5e5",
   "metadata": {},
   "outputs": [],
   "source": []
  }
 ],
 "metadata": {
  "kernelspec": {
   "display_name": "Python 3",
   "language": "python",
   "name": "python3"
  },
  "language_info": {
   "codemirror_mode": {
    "name": "ipython",
    "version": 3
   },
   "file_extension": ".py",
   "mimetype": "text/x-python",
   "name": "python",
   "nbconvert_exporter": "python",
   "pygments_lexer": "ipython3",
   "version": "3.9.7"
  }
 },
 "nbformat": 4,
 "nbformat_minor": 5
}
